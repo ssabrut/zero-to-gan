{
 "cells": [
  {
   "cell_type": "markdown",
   "id": "ca6a4cdf-c9ca-499d-ba29-da6a26d13f9b",
   "metadata": {},
   "source": [
    "# Tensors\n",
    "\n",
    "Create an Integer Tensor"
   ]
  },
  {
   "cell_type": "code",
   "execution_count": 1,
   "id": "fe321a5d-30f2-4462-95bc-2b221f0e4fd6",
   "metadata": {
    "execution": {
     "iopub.execute_input": "2025-01-22T11:59:19.825922Z",
     "iopub.status.busy": "2025-01-22T11:59:19.825850Z",
     "iopub.status.idle": "2025-01-22T11:59:20.705037Z",
     "shell.execute_reply": "2025-01-22T11:59:20.704783Z",
     "shell.execute_reply.started": "2025-01-22T11:59:19.825912Z"
    }
   },
   "outputs": [
    {
     "data": {
      "text/plain": [
       "tensor(1.)"
      ]
     },
     "execution_count": 1,
     "metadata": {},
     "output_type": "execute_result"
    }
   ],
   "source": [
    "import torch\n",
    "\n",
    "t1 = torch.tensor(1.)\n",
    "t1"
   ]
  },
  {
   "cell_type": "code",
   "execution_count": 2,
   "id": "c19bf4b5-682d-4750-9925-667b9983b07b",
   "metadata": {
    "execution": {
     "iopub.execute_input": "2025-01-22T11:59:20.706054Z",
     "iopub.status.busy": "2025-01-22T11:59:20.705931Z",
     "iopub.status.idle": "2025-01-22T11:59:20.707998Z",
     "shell.execute_reply": "2025-01-22T11:59:20.707789Z",
     "shell.execute_reply.started": "2025-01-22T11:59:20.706045Z"
    }
   },
   "outputs": [
    {
     "data": {
      "text/plain": [
       "torch.float32"
      ]
     },
     "execution_count": 2,
     "metadata": {},
     "output_type": "execute_result"
    }
   ],
   "source": [
    "t1.dtype"
   ]
  },
  {
   "cell_type": "markdown",
   "id": "bb0e592e-f88b-426d-b489-ccf9a88cf08d",
   "metadata": {},
   "source": [
    "Create a Vector Tensor,"
   ]
  },
  {
   "cell_type": "code",
   "execution_count": 3,
   "id": "6c20d3a8-56fa-4d5c-b068-1497422b0711",
   "metadata": {
    "execution": {
     "iopub.execute_input": "2025-01-22T11:59:20.708522Z",
     "iopub.status.busy": "2025-01-22T11:59:20.708414Z",
     "iopub.status.idle": "2025-01-22T11:59:20.710746Z",
     "shell.execute_reply": "2025-01-22T11:59:20.710548Z",
     "shell.execute_reply.started": "2025-01-22T11:59:20.708514Z"
    }
   },
   "outputs": [
    {
     "data": {
      "text/plain": [
       "tensor([1., 2., 3., 4.])"
      ]
     },
     "execution_count": 3,
     "metadata": {},
     "output_type": "execute_result"
    }
   ],
   "source": [
    "t2 = torch.tensor([1,2.,3,4])\n",
    "t2"
   ]
  },
  {
   "cell_type": "markdown",
   "id": "317b50c2-55ee-4bac-9425-08a1b23d3597",
   "metadata": {},
   "source": [
    "Create a Matrix Tensor"
   ]
  },
  {
   "cell_type": "code",
   "execution_count": 4,
   "id": "c7bad2e3-0284-4960-bc9b-d26ae5e82184",
   "metadata": {
    "execution": {
     "iopub.execute_input": "2025-01-22T11:59:20.711097Z",
     "iopub.status.busy": "2025-01-22T11:59:20.711030Z",
     "iopub.status.idle": "2025-01-22T11:59:20.713383Z",
     "shell.execute_reply": "2025-01-22T11:59:20.713188Z",
     "shell.execute_reply.started": "2025-01-22T11:59:20.711089Z"
    }
   },
   "outputs": [
    {
     "data": {
      "text/plain": [
       "tensor([[1., 2., 3.],\n",
       "        [4., 5., 6.]])"
      ]
     },
     "execution_count": 4,
     "metadata": {},
     "output_type": "execute_result"
    }
   ],
   "source": [
    "t3 = torch.tensor([\n",
    "    [1.,2,3],\n",
    "    [4,5,6]\n",
    "])\n",
    "t3"
   ]
  },
  {
   "cell_type": "markdown",
   "id": "2a5b2a80-dd60-4891-968a-141888f7fb13",
   "metadata": {},
   "source": [
    "Create a 3D Array"
   ]
  },
  {
   "cell_type": "code",
   "execution_count": 5,
   "id": "595b2036-42fb-4328-b89c-56063cfee54d",
   "metadata": {
    "execution": {
     "iopub.execute_input": "2025-01-22T11:59:20.714002Z",
     "iopub.status.busy": "2025-01-22T11:59:20.713857Z",
     "iopub.status.idle": "2025-01-22T11:59:20.716294Z",
     "shell.execute_reply": "2025-01-22T11:59:20.716080Z",
     "shell.execute_reply.started": "2025-01-22T11:59:20.713994Z"
    }
   },
   "outputs": [
    {
     "data": {
      "text/plain": [
       "tensor([[[ 1.,  2.,  3.],\n",
       "         [ 4.,  5.,  6.]],\n",
       "\n",
       "        [[ 7.,  8.,  9.],\n",
       "         [10., 11., 12.]]])"
      ]
     },
     "execution_count": 5,
     "metadata": {},
     "output_type": "execute_result"
    }
   ],
   "source": [
    "t4 = torch.tensor([\n",
    "    [\n",
    "        [1,2,3.],\n",
    "        [4,5,6]\n",
    "    ],\n",
    "    [\n",
    "        [7,8,9],\n",
    "        [10,11,12]\n",
    "    ]\n",
    "])\n",
    "t4"
   ]
  },
  {
   "cell_type": "markdown",
   "id": "1ca54854-3e2c-49ef-9ae8-8b8f642062d2",
   "metadata": {},
   "source": [
    "Print the created tensor and each shape"
   ]
  },
  {
   "cell_type": "code",
   "execution_count": 6,
   "id": "532e4e2b-7158-45a9-a534-f42657321b74",
   "metadata": {
    "execution": {
     "iopub.execute_input": "2025-01-22T11:59:20.716775Z",
     "iopub.status.busy": "2025-01-22T11:59:20.716674Z",
     "iopub.status.idle": "2025-01-22T11:59:20.718747Z",
     "shell.execute_reply": "2025-01-22T11:59:20.718562Z",
     "shell.execute_reply.started": "2025-01-22T11:59:20.716767Z"
    }
   },
   "outputs": [
    {
     "name": "stdout",
     "output_type": "stream",
     "text": [
      "tensor(1.)\n"
     ]
    },
    {
     "data": {
      "text/plain": [
       "torch.Size([])"
      ]
     },
     "execution_count": 6,
     "metadata": {},
     "output_type": "execute_result"
    }
   ],
   "source": [
    "print(t1)\n",
    "t1.shape"
   ]
  },
  {
   "cell_type": "code",
   "execution_count": 7,
   "id": "2a2ae4e2-0cff-4b53-b131-218209279bf8",
   "metadata": {
    "execution": {
     "iopub.execute_input": "2025-01-22T11:59:20.720248Z",
     "iopub.status.busy": "2025-01-22T11:59:20.720160Z",
     "iopub.status.idle": "2025-01-22T11:59:20.723054Z",
     "shell.execute_reply": "2025-01-22T11:59:20.722827Z",
     "shell.execute_reply.started": "2025-01-22T11:59:20.720240Z"
    }
   },
   "outputs": [
    {
     "name": "stdout",
     "output_type": "stream",
     "text": [
      "tensor([1., 2., 3., 4.])\n"
     ]
    },
    {
     "data": {
      "text/plain": [
       "torch.Size([4])"
      ]
     },
     "execution_count": 7,
     "metadata": {},
     "output_type": "execute_result"
    }
   ],
   "source": [
    "print(t2)\n",
    "t2.shape"
   ]
  },
  {
   "cell_type": "code",
   "execution_count": 8,
   "id": "dd097f17-2500-41f6-815c-dd47d4053b5e",
   "metadata": {
    "execution": {
     "iopub.execute_input": "2025-01-22T11:59:20.723922Z",
     "iopub.status.busy": "2025-01-22T11:59:20.723821Z",
     "iopub.status.idle": "2025-01-22T11:59:20.727295Z",
     "shell.execute_reply": "2025-01-22T11:59:20.727062Z",
     "shell.execute_reply.started": "2025-01-22T11:59:20.723913Z"
    }
   },
   "outputs": [
    {
     "name": "stdout",
     "output_type": "stream",
     "text": [
      "tensor([[1., 2., 3.],\n",
      "        [4., 5., 6.]])\n"
     ]
    },
    {
     "data": {
      "text/plain": [
       "torch.Size([2, 3])"
      ]
     },
     "execution_count": 8,
     "metadata": {},
     "output_type": "execute_result"
    }
   ],
   "source": [
    "print(t3)\n",
    "t3.shape"
   ]
  },
  {
   "cell_type": "code",
   "execution_count": 9,
   "id": "ed3e5896-26aa-49a9-a7c1-0d5ed5d43b1d",
   "metadata": {
    "execution": {
     "iopub.execute_input": "2025-01-22T11:59:20.727828Z",
     "iopub.status.busy": "2025-01-22T11:59:20.727743Z",
     "iopub.status.idle": "2025-01-22T11:59:20.731267Z",
     "shell.execute_reply": "2025-01-22T11:59:20.730665Z",
     "shell.execute_reply.started": "2025-01-22T11:59:20.727820Z"
    }
   },
   "outputs": [
    {
     "name": "stdout",
     "output_type": "stream",
     "text": [
      "tensor([[[ 1.,  2.,  3.],\n",
      "         [ 4.,  5.,  6.]],\n",
      "\n",
      "        [[ 7.,  8.,  9.],\n",
      "         [10., 11., 12.]]])\n"
     ]
    },
    {
     "data": {
      "text/plain": [
       "torch.Size([2, 2, 3])"
      ]
     },
     "execution_count": 9,
     "metadata": {},
     "output_type": "execute_result"
    }
   ],
   "source": [
    "print(t4)\n",
    "t4.shape"
   ]
  },
  {
   "cell_type": "markdown",
   "id": "6f192c76-c8ee-4994-8e61-5666750c0d3d",
   "metadata": {},
   "source": [
    "How about creating a tensor with different shape?"
   ]
  },
  {
   "cell_type": "code",
   "execution_count": 10,
   "id": "0e7b9e65-784e-458f-9709-a16375edca6c",
   "metadata": {
    "execution": {
     "iopub.execute_input": "2025-01-22T11:59:20.731859Z",
     "iopub.status.busy": "2025-01-22T11:59:20.731739Z",
     "iopub.status.idle": "2025-01-22T11:59:20.918367Z",
     "shell.execute_reply": "2025-01-22T11:59:20.917210Z",
     "shell.execute_reply.started": "2025-01-22T11:59:20.731846Z"
    }
   },
   "outputs": [
    {
     "ename": "ValueError",
     "evalue": "expected sequence of length 3 at dim 1 (got 2)",
     "output_type": "error",
     "traceback": [
      "\u001b[0;31m---------------------------------------------------------------------------\u001b[0m",
      "\u001b[0;31mValueError\u001b[0m                                Traceback (most recent call last)",
      "Cell \u001b[0;32mIn[10], line 1\u001b[0m\n\u001b[0;32m----> 1\u001b[0m t5 \u001b[38;5;241m=\u001b[39m torch\u001b[38;5;241m.\u001b[39mtensor([\n\u001b[1;32m      2\u001b[0m     [\u001b[38;5;241m1\u001b[39m,\u001b[38;5;241m2.\u001b[39m,\u001b[38;5;241m3\u001b[39m],\n\u001b[1;32m      3\u001b[0m     [\u001b[38;5;241m4\u001b[39m,\u001b[38;5;241m5\u001b[39m],\n\u001b[1;32m      4\u001b[0m     [\u001b[38;5;241m6\u001b[39m,\u001b[38;5;241m7\u001b[39m]\n\u001b[1;32m      5\u001b[0m ])\n",
      "\u001b[0;31mValueError\u001b[0m: expected sequence of length 3 at dim 1 (got 2)"
     ]
    }
   ],
   "source": [
    "t5 = torch.tensor([\n",
    "    [1,2.,3],\n",
    "    [4,5],\n",
    "    [6,7]\n",
    "])"
   ]
  },
  {
   "cell_type": "markdown",
   "id": "0bbcccb8-83c2-4389-90d2-a43e8230a3aa",
   "metadata": {},
   "source": [
    "### Tensor Operation and Gradients"
   ]
  },
  {
   "cell_type": "code",
   "execution_count": 11,
   "id": "033e13ae-2b3f-4d42-9572-86f5839837eb",
   "metadata": {
    "execution": {
     "iopub.execute_input": "2025-01-22T11:59:25.152147Z",
     "iopub.status.busy": "2025-01-22T11:59:25.151638Z",
     "iopub.status.idle": "2025-01-22T11:59:25.160298Z",
     "shell.execute_reply": "2025-01-22T11:59:25.159754Z",
     "shell.execute_reply.started": "2025-01-22T11:59:25.152114Z"
    }
   },
   "outputs": [
    {
     "data": {
      "text/plain": [
       "(tensor(1.), tensor(2., requires_grad=True), tensor(3., requires_grad=True))"
      ]
     },
     "execution_count": 11,
     "metadata": {},
     "output_type": "execute_result"
    }
   ],
   "source": [
    "x = torch.tensor(1.) # we do not need the gradient from the x (or usually called input)\n",
    "w = torch.tensor(2., requires_grad=True)\n",
    "b = torch.tensor(3., requires_grad=True)\n",
    "x, w, b"
   ]
  },
  {
   "cell_type": "code",
   "execution_count": 12,
   "id": "446edbcb-4e2d-46e7-958c-26735cec839c",
   "metadata": {
    "execution": {
     "iopub.execute_input": "2025-01-22T11:59:25.647554Z",
     "iopub.status.busy": "2025-01-22T11:59:25.646428Z",
     "iopub.status.idle": "2025-01-22T11:59:25.655846Z",
     "shell.execute_reply": "2025-01-22T11:59:25.655016Z",
     "shell.execute_reply.started": "2025-01-22T11:59:25.647494Z"
    }
   },
   "outputs": [
    {
     "data": {
      "text/plain": [
       "tensor(5., grad_fn=<AddBackward0>)"
      ]
     },
     "execution_count": 12,
     "metadata": {},
     "output_type": "execute_result"
    }
   ],
   "source": [
    "y = w * x + b\n",
    "y"
   ]
  },
  {
   "cell_type": "markdown",
   "id": "10ff0849-ae6f-4802-b056-f6e343057970",
   "metadata": {},
   "source": [
    "Compute the gradients of `y`"
   ]
  },
  {
   "cell_type": "code",
   "execution_count": 13,
   "id": "0e987c71-453b-4692-b746-de513f772b50",
   "metadata": {
    "execution": {
     "iopub.execute_input": "2025-01-22T11:59:25.810447Z",
     "iopub.status.busy": "2025-01-22T11:59:25.809855Z",
     "iopub.status.idle": "2025-01-22T11:59:25.849059Z",
     "shell.execute_reply": "2025-01-22T11:59:25.848739Z",
     "shell.execute_reply.started": "2025-01-22T11:59:25.810394Z"
    }
   },
   "outputs": [
    {
     "data": {
      "text/plain": [
       "tensor(5., grad_fn=<AddBackward0>)"
      ]
     },
     "execution_count": 13,
     "metadata": {},
     "output_type": "execute_result"
    }
   ],
   "source": [
    "y.backward()\n",
    "y"
   ]
  },
  {
   "cell_type": "markdown",
   "id": "30005477-adab-4ef6-a201-a31d4e13ac0d",
   "metadata": {},
   "source": [
    "Now we display the gradients"
   ]
  },
  {
   "cell_type": "code",
   "execution_count": 14,
   "id": "671456db-5cd4-496e-8775-80eed207fc12",
   "metadata": {
    "execution": {
     "iopub.execute_input": "2025-01-22T11:59:25.976849Z",
     "iopub.status.busy": "2025-01-22T11:59:25.976257Z",
     "iopub.status.idle": "2025-01-22T11:59:25.984726Z",
     "shell.execute_reply": "2025-01-22T11:59:25.984315Z",
     "shell.execute_reply.started": "2025-01-22T11:59:25.976800Z"
    }
   },
   "outputs": [
    {
     "name": "stdout",
     "output_type": "stream",
     "text": [
      "dy/dx None\n",
      "dy/dw tensor(1.)\n",
      "dy/db tensor(1.)\n"
     ]
    }
   ],
   "source": [
    "print('dy/dx', x.grad)\n",
    "print('dy/dw', w.grad)\n",
    "print('dy/db', b.grad)"
   ]
  },
  {
   "cell_type": "markdown",
   "id": "6994a477-29ce-4ad7-bcdd-4662fe954af4",
   "metadata": {},
   "source": [
    "### Tensor Functions\n",
    "\n",
    "Create a tensor with a fixed value for every element"
   ]
  },
  {
   "cell_type": "code",
   "execution_count": 15,
   "id": "343a09ee-44d6-4811-8cca-6aff22b93344",
   "metadata": {
    "execution": {
     "iopub.execute_input": "2025-01-22T11:59:26.143567Z",
     "iopub.status.busy": "2025-01-22T11:59:26.142982Z",
     "iopub.status.idle": "2025-01-22T11:59:26.152617Z",
     "shell.execute_reply": "2025-01-22T11:59:26.151898Z",
     "shell.execute_reply.started": "2025-01-22T11:59:26.143518Z"
    }
   },
   "outputs": [
    {
     "data": {
      "text/plain": [
       "tensor([[42, 42, 42],\n",
       "        [42, 42, 42]])"
      ]
     },
     "execution_count": 15,
     "metadata": {},
     "output_type": "execute_result"
    }
   ],
   "source": [
    "# will create a matrix of 3 row and 2 columns with 42 as value\n",
    "t6 = torch.full((2,3), 42)\n",
    "t6"
   ]
  },
  {
   "cell_type": "code",
   "execution_count": 16,
   "id": "8758cb51-83c5-4e4e-b223-981c2692fae5",
   "metadata": {
    "execution": {
     "iopub.execute_input": "2025-01-22T11:59:26.227337Z",
     "iopub.status.busy": "2025-01-22T11:59:26.226183Z",
     "iopub.status.idle": "2025-01-22T11:59:26.237351Z",
     "shell.execute_reply": "2025-01-22T11:59:26.236565Z",
     "shell.execute_reply.started": "2025-01-22T11:59:26.227281Z"
    }
   },
   "outputs": [
    {
     "data": {
      "text/plain": [
       "(tensor([[1., 2., 3.],\n",
       "         [4., 5., 6.]]),\n",
       " tensor([[42, 42, 42],\n",
       "         [42, 42, 42]]),\n",
       " tensor([[ 1.,  2.,  3.],\n",
       "         [ 4.,  5.,  6.],\n",
       "         [42., 42., 42.],\n",
       "         [42., 42., 42.]]))"
      ]
     },
     "execution_count": 16,
     "metadata": {},
     "output_type": "execute_result"
    }
   ],
   "source": [
    "# concatenate two tensors\n",
    "t7 = torch.cat((t3,t6))\n",
    "t3, t6, t7"
   ]
  },
  {
   "cell_type": "code",
   "execution_count": 17,
   "id": "0c039df7-53f7-47a1-afa8-e8995698932b",
   "metadata": {
    "execution": {
     "iopub.execute_input": "2025-01-22T11:59:26.310154Z",
     "iopub.status.busy": "2025-01-22T11:59:26.309545Z",
     "iopub.status.idle": "2025-01-22T11:59:26.318792Z",
     "shell.execute_reply": "2025-01-22T11:59:26.317974Z",
     "shell.execute_reply.started": "2025-01-22T11:59:26.310101Z"
    }
   },
   "outputs": [
    {
     "data": {
      "text/plain": [
       "tensor([[ 0.8415,  0.9093,  0.1411],\n",
       "        [-0.7568, -0.9589, -0.2794],\n",
       "        [-0.9165, -0.9165, -0.9165],\n",
       "        [-0.9165, -0.9165, -0.9165]])"
      ]
     },
     "execution_count": 17,
     "metadata": {},
     "output_type": "execute_result"
    }
   ],
   "source": [
    "# get the sin of the tensor\n",
    "t8 = torch.sin(t7)\n",
    "t8"
   ]
  },
  {
   "cell_type": "code",
   "execution_count": 18,
   "id": "550186d4-7e23-49ce-9805-034e4cdd20b8",
   "metadata": {
    "execution": {
     "iopub.execute_input": "2025-01-22T11:59:26.392706Z",
     "iopub.status.busy": "2025-01-22T11:59:26.392113Z",
     "iopub.status.idle": "2025-01-22T11:59:26.401613Z",
     "shell.execute_reply": "2025-01-22T11:59:26.400956Z",
     "shell.execute_reply.started": "2025-01-22T11:59:26.392652Z"
    }
   },
   "outputs": [
    {
     "data": {
      "text/plain": [
       "tensor([[[ 0.8415,  0.9093],\n",
       "         [ 0.1411, -0.7568]],\n",
       "\n",
       "        [[-0.9589, -0.2794],\n",
       "         [-0.9165, -0.9165]],\n",
       "\n",
       "        [[-0.9165, -0.9165],\n",
       "         [-0.9165, -0.9165]]])"
      ]
     },
     "execution_count": 18,
     "metadata": {},
     "output_type": "execute_result"
    }
   ],
   "source": [
    "# reshape from 4 x 3 matrix to 3 dimensions 2 rows and 2 columns\n",
    "t9 = t8.reshape(3,2,2)\n",
    "t9"
   ]
  },
  {
   "cell_type": "markdown",
   "id": "4504b582-fda4-4f93-befc-e6175d760b02",
   "metadata": {},
   "source": [
    "# Gradient Descent and Linear Regression\n",
    "\n",
    "Create training data for temperature, rainfall, humidity. Our task is to predict the yield of apple and orange"
   ]
  },
  {
   "cell_type": "code",
   "execution_count": 19,
   "id": "df99a17f-fcab-4a0e-b414-5e9d6563d3bf",
   "metadata": {
    "execution": {
     "iopub.execute_input": "2025-01-22T11:59:26.559333Z",
     "iopub.status.busy": "2025-01-22T11:59:26.558737Z",
     "iopub.status.idle": "2025-01-22T11:59:26.569655Z",
     "shell.execute_reply": "2025-01-22T11:59:26.568930Z",
     "shell.execute_reply.started": "2025-01-22T11:59:26.559281Z"
    }
   },
   "outputs": [
    {
     "data": {
      "text/plain": [
       "array([[ 73.,  67.,  43.],\n",
       "       [ 91.,  88.,  64.],\n",
       "       [ 87., 134.,  58.],\n",
       "       [102.,  43.,  37.],\n",
       "       [ 69.,  96.,  70.]], dtype=float32)"
      ]
     },
     "execution_count": 19,
     "metadata": {},
     "output_type": "execute_result"
    }
   ],
   "source": [
    "import numpy as np\n",
    "\n",
    "inputs = np.array([\n",
    "    [73,67,43],\n",
    "    [91,88,64],\n",
    "    [87,134,58],\n",
    "    [102,43,37],\n",
    "    [69,96,70]\n",
    "], dtype=np.float32)\n",
    "inputs"
   ]
  },
  {
   "cell_type": "code",
   "execution_count": 20,
   "id": "78cdcfc4-140f-42b8-9db4-b0c97174baa5",
   "metadata": {
    "execution": {
     "iopub.execute_input": "2025-01-22T11:59:26.643753Z",
     "iopub.status.busy": "2025-01-22T11:59:26.643110Z",
     "iopub.status.idle": "2025-01-22T11:59:26.652959Z",
     "shell.execute_reply": "2025-01-22T11:59:26.652043Z",
     "shell.execute_reply.started": "2025-01-22T11:59:26.643701Z"
    }
   },
   "outputs": [
    {
     "data": {
      "text/plain": [
       "array([[ 56.,  70.],\n",
       "       [ 81., 101.],\n",
       "       [119., 133.],\n",
       "       [ 22.,  37.],\n",
       "       [103., 119.]], dtype=float32)"
      ]
     },
     "execution_count": 20,
     "metadata": {},
     "output_type": "execute_result"
    }
   ],
   "source": [
    "# first column is for apple yield, second is for orange yield\n",
    "targets = np.array([\n",
    "    [56,70],\n",
    "    [81,101],\n",
    "    [119,133],\n",
    "    [22,37],\n",
    "    [103,119]\n",
    "], dtype=np.float32)\n",
    "targets"
   ]
  },
  {
   "cell_type": "markdown",
   "id": "48a24956-d857-4978-8e73-281d860c38b9",
   "metadata": {},
   "source": [
    "Convert to tensor"
   ]
  },
  {
   "cell_type": "code",
   "execution_count": 21,
   "id": "cdd59c2e-419a-4a52-9376-541b470b6de2",
   "metadata": {
    "execution": {
     "iopub.execute_input": "2025-01-22T11:59:27.438020Z",
     "iopub.status.busy": "2025-01-22T11:59:27.437438Z",
     "iopub.status.idle": "2025-01-22T11:59:27.447824Z",
     "shell.execute_reply": "2025-01-22T11:59:27.447103Z",
     "shell.execute_reply.started": "2025-01-22T11:59:27.437971Z"
    }
   },
   "outputs": [
    {
     "data": {
      "text/plain": [
       "(tensor([[ 73.,  67.,  43.],\n",
       "         [ 91.,  88.,  64.],\n",
       "         [ 87., 134.,  58.],\n",
       "         [102.,  43.,  37.],\n",
       "         [ 69.,  96.,  70.]]),\n",
       " tensor([[ 56.,  70.],\n",
       "         [ 81., 101.],\n",
       "         [119., 133.],\n",
       "         [ 22.,  37.],\n",
       "         [103., 119.]]))"
      ]
     },
     "execution_count": 21,
     "metadata": {},
     "output_type": "execute_result"
    }
   ],
   "source": [
    "inputs = torch.from_numpy(inputs)\n",
    "targets = torch.from_numpy(targets)\n",
    "inputs, targets"
   ]
  },
  {
   "cell_type": "markdown",
   "id": "5668b7da-41d3-45b8-8212-061984b5ffad",
   "metadata": {},
   "source": [
    "### Create Linear Regression"
   ]
  },
  {
   "cell_type": "code",
   "execution_count": 22,
   "id": "c205a3a8-a8d9-489e-85e1-f5f1a81ec026",
   "metadata": {
    "execution": {
     "iopub.execute_input": "2025-01-22T11:59:27.771276Z",
     "iopub.status.busy": "2025-01-22T11:59:27.770666Z",
     "iopub.status.idle": "2025-01-22T11:59:27.781472Z",
     "shell.execute_reply": "2025-01-22T11:59:27.780782Z",
     "shell.execute_reply.started": "2025-01-22T11:59:27.771224Z"
    }
   },
   "outputs": [
    {
     "data": {
      "text/plain": [
       "(tensor([[ 0.5305,  1.4927, -0.6954],\n",
       "         [-0.8306,  1.4336,  1.3536]], requires_grad=True),\n",
       " tensor([0.3500, 1.7211], requires_grad=True))"
      ]
     },
     "execution_count": 22,
     "metadata": {},
     "output_type": "execute_result"
    }
   ],
   "source": [
    "# 2 row for apple and orange, 3 columns for features\n",
    "w = torch.randn(2, 3, requires_grad=True)\n",
    "b = torch.randn(2, requires_grad=True)\n",
    "w, b"
   ]
  },
  {
   "cell_type": "code",
   "execution_count": 23,
   "id": "6adca28b-968f-45fe-b5a3-5000d882b3ec",
   "metadata": {
    "execution": {
     "iopub.execute_input": "2025-01-22T11:59:27.935929Z",
     "iopub.status.busy": "2025-01-22T11:59:27.935446Z",
     "iopub.status.idle": "2025-01-22T11:59:27.944933Z",
     "shell.execute_reply": "2025-01-22T11:59:27.944139Z",
     "shell.execute_reply.started": "2025-01-22T11:59:27.935882Z"
    }
   },
   "outputs": [
    {
     "data": {
      "text/plain": [
       "tensor([[109.1883,  95.3425],\n",
       "        [135.4812, 138.9227],\n",
       "        [206.1977, 200.0692],\n",
       "        [ 92.9203,  28.7269],\n",
       "        [131.5791, 176.7864]], grad_fn=<AddBackward0>)"
      ]
     },
     "execution_count": 23,
     "metadata": {},
     "output_type": "execute_result"
    }
   ],
   "source": [
    "def linear_regression(x):\n",
    "    # @ is for matrix multiplication or we could use torch.matmul(x, w.t())\n",
    "    return x @ w.t() + b\n",
    "\n",
    "yhat = linear_regression(inputs)\n",
    "yhat"
   ]
  },
  {
   "cell_type": "code",
   "execution_count": 24,
   "id": "58937c5f-1732-4c4e-8036-5b6ab097d8be",
   "metadata": {
    "execution": {
     "iopub.execute_input": "2025-01-22T11:59:28.154207Z",
     "iopub.status.busy": "2025-01-22T11:59:28.153631Z",
     "iopub.status.idle": "2025-01-22T11:59:28.162614Z",
     "shell.execute_reply": "2025-01-22T11:59:28.161773Z",
     "shell.execute_reply.started": "2025-01-22T11:59:28.154161Z"
    }
   },
   "outputs": [
    {
     "data": {
      "text/plain": [
       "tensor([[ 56.,  70.],\n",
       "        [ 81., 101.],\n",
       "        [119., 133.],\n",
       "        [ 22.,  37.],\n",
       "        [103., 119.]])"
      ]
     },
     "execution_count": 24,
     "metadata": {},
     "output_type": "execute_result"
    }
   ],
   "source": [
    "targets"
   ]
  },
  {
   "cell_type": "markdown",
   "id": "966a380b-a87c-4861-a0a9-0d703bc76fd2",
   "metadata": {},
   "source": [
    "### Loss Function\n",
    "\n"
   ]
  },
  {
   "cell_type": "code",
   "execution_count": 25,
   "id": "7dbb82d3-6f89-461c-9164-a82a6bbb2011",
   "metadata": {
    "execution": {
     "iopub.execute_input": "2025-01-22T11:59:29.402166Z",
     "iopub.status.busy": "2025-01-22T11:59:29.401684Z",
     "iopub.status.idle": "2025-01-22T11:59:29.412149Z",
     "shell.execute_reply": "2025-01-22T11:59:29.411685Z",
     "shell.execute_reply.started": "2025-01-22T11:59:29.402137Z"
    }
   },
   "outputs": [
    {
     "data": {
      "text/plain": [
       "tensor(2923.3464, grad_fn=<DivBackward0>)"
      ]
     },
     "execution_count": 25,
     "metadata": {},
     "output_type": "execute_result"
    }
   ],
   "source": [
    "def mean_squared_error(y_pred, y_true):\n",
    "    diff = y_pred - y_true\n",
    "    return torch.sum(diff ** 2) / diff.numel()\n",
    "\n",
    "loss = mean_squared_error(yhat, targets)\n",
    "loss"
   ]
  },
  {
   "cell_type": "markdown",
   "id": "5a0bcf19-4de8-4407-9c2e-08ae13134031",
   "metadata": {},
   "source": [
    "### Compute Gradients"
   ]
  },
  {
   "cell_type": "code",
   "execution_count": 26,
   "id": "b7ffb5e4-ac5d-427f-8401-eea3b558cd82",
   "metadata": {
    "execution": {
     "iopub.execute_input": "2025-01-22T11:59:29.644638Z",
     "iopub.status.busy": "2025-01-22T11:59:29.643995Z",
     "iopub.status.idle": "2025-01-22T11:59:29.650348Z",
     "shell.execute_reply": "2025-01-22T11:59:29.649362Z",
     "shell.execute_reply.started": "2025-01-22T11:59:29.644583Z"
    }
   },
   "outputs": [],
   "source": [
    "loss.backward()"
   ]
  },
  {
   "cell_type": "code",
   "execution_count": 27,
   "id": "4a15dbdf-20c9-4a1f-9db0-f154593108a1",
   "metadata": {
    "execution": {
     "iopub.execute_input": "2025-01-22T11:59:29.779764Z",
     "iopub.status.busy": "2025-01-22T11:59:29.779170Z",
     "iopub.status.idle": "2025-01-22T11:59:29.787847Z",
     "shell.execute_reply": "2025-01-22T11:59:29.787173Z",
     "shell.execute_reply.started": "2025-01-22T11:59:29.779717Z"
    }
   },
   "outputs": [
    {
     "data": {
      "text/plain": [
       "(tensor([[ 0.5305,  1.4927, -0.6954],\n",
       "         [-0.8306,  1.4336,  1.3536]], requires_grad=True),\n",
       " tensor([[5126.5137, 5167.1255, 3091.1904],\n",
       "         [2855.8801, 3842.8354, 2229.1484]]))"
      ]
     },
     "execution_count": 27,
     "metadata": {},
     "output_type": "execute_result"
    }
   ],
   "source": [
    "w, w.grad"
   ]
  },
  {
   "cell_type": "code",
   "execution_count": 28,
   "id": "92a3e3c7-2fe3-4915-9b51-c7e75b8a8da2",
   "metadata": {
    "execution": {
     "iopub.execute_input": "2025-01-22T11:59:29.920494Z",
     "iopub.status.busy": "2025-01-22T11:59:29.919901Z",
     "iopub.status.idle": "2025-01-22T11:59:29.926144Z",
     "shell.execute_reply": "2025-01-22T11:59:29.925605Z",
     "shell.execute_reply.started": "2025-01-22T11:59:29.920442Z"
    }
   },
   "outputs": [
    {
     "data": {
      "text/plain": [
       "(tensor([0.3500, 1.7211], requires_grad=True), tensor([58.8733, 35.9696]))"
      ]
     },
     "execution_count": 28,
     "metadata": {},
     "output_type": "execute_result"
    }
   ],
   "source": [
    "b, b.grad"
   ]
  },
  {
   "cell_type": "markdown",
   "id": "a03b8be0-da9d-4070-bda4-29a00bf09d4e",
   "metadata": {},
   "source": [
    "### Adjust Weights and Biases to Reduce the Loss"
   ]
  },
  {
   "cell_type": "code",
   "execution_count": 29,
   "id": "92dbcead-91f0-4075-a1e5-6887540935a0",
   "metadata": {
    "execution": {
     "iopub.execute_input": "2025-01-22T11:59:30.220492Z",
     "iopub.status.busy": "2025-01-22T11:59:30.219913Z",
     "iopub.status.idle": "2025-01-22T11:59:30.226539Z",
     "shell.execute_reply": "2025-01-22T11:59:30.225675Z",
     "shell.execute_reply.started": "2025-01-22T11:59:30.220441Z"
    }
   },
   "outputs": [],
   "source": [
    "# the use of torch.no_grad() is to indicate PyTorch that we shouldnt track, calculate, or modify gradients while updating the weights and biases\n",
    "with torch.no_grad():\n",
    "    w -= w.grad * 1e-5 # learning rate\n",
    "    b -= b.grad * 1e-5"
   ]
  },
  {
   "cell_type": "code",
   "execution_count": 30,
   "id": "8e4af6cf-f3ca-44e4-b130-496610ebed0e",
   "metadata": {
    "execution": {
     "iopub.execute_input": "2025-01-22T11:59:30.340645Z",
     "iopub.status.busy": "2025-01-22T11:59:30.340081Z",
     "iopub.status.idle": "2025-01-22T11:59:30.348838Z",
     "shell.execute_reply": "2025-01-22T11:59:30.348151Z",
     "shell.execute_reply.started": "2025-01-22T11:59:30.340599Z"
    }
   },
   "outputs": [
    {
     "data": {
      "text/plain": [
       "tensor([[100.6542,  89.7241],\n",
       "        [124.2901, 131.5151],\n",
       "        [193.0202, 191.1420],\n",
       "        [ 84.3250,  23.3363],\n",
       "        [120.9170, 169.5660]], grad_fn=<AddBackward0>)"
      ]
     },
     "execution_count": 30,
     "metadata": {},
     "output_type": "execute_result"
    }
   ],
   "source": [
    "yhat = linear_regression(inputs)\n",
    "yhat"
   ]
  },
  {
   "cell_type": "code",
   "execution_count": 31,
   "id": "c1096831-c51f-4a66-8f45-be57a1b9f63b",
   "metadata": {
    "execution": {
     "iopub.execute_input": "2025-01-22T11:59:31.306494Z",
     "iopub.status.busy": "2025-01-22T11:59:31.305880Z",
     "iopub.status.idle": "2025-01-22T11:59:31.315028Z",
     "shell.execute_reply": "2025-01-22T11:59:31.314333Z",
     "shell.execute_reply.started": "2025-01-22T11:59:31.306441Z"
    }
   },
   "outputs": [
    {
     "data": {
      "text/plain": [
       "tensor(2099.6763, grad_fn=<DivBackward0>)"
      ]
     },
     "execution_count": 31,
     "metadata": {},
     "output_type": "execute_result"
    }
   ],
   "source": [
    "loss = mean_squared_error(yhat, targets)\n",
    "loss"
   ]
  },
  {
   "cell_type": "markdown",
   "id": "8cfb014e-a4e8-4c15-a4e1-42e6defffe04",
   "metadata": {},
   "source": [
    "Before proceeding, reset gradients to zero. Because PyTorch accumulates gradient, otherwise when using the `backward()` function again, the new gradient values are added to existing gradients"
   ]
  },
  {
   "cell_type": "code",
   "execution_count": 32,
   "id": "d42b12ee-da3a-4471-8698-79ba28399ed6",
   "metadata": {
    "execution": {
     "iopub.execute_input": "2025-01-22T11:59:32.647801Z",
     "iopub.status.busy": "2025-01-22T11:59:32.647275Z",
     "iopub.status.idle": "2025-01-22T11:59:32.654483Z",
     "shell.execute_reply": "2025-01-22T11:59:32.653610Z",
     "shell.execute_reply.started": "2025-01-22T11:59:32.647768Z"
    }
   },
   "outputs": [
    {
     "data": {
      "text/plain": [
       "(tensor([[0., 0., 0.],\n",
       "         [0., 0., 0.]]),\n",
       " tensor([0., 0.]))"
      ]
     },
     "execution_count": 32,
     "metadata": {},
     "output_type": "execute_result"
    }
   ],
   "source": [
    "w.grad.zero_()\n",
    "b.grad.zero_()\n",
    "w.grad, b.grad"
   ]
  },
  {
   "cell_type": "markdown",
   "id": "884e928a-442d-4edc-89c7-20ade83d414f",
   "metadata": {},
   "source": [
    "### Train the Model with Gradient Descent"
   ]
  },
  {
   "cell_type": "code",
   "execution_count": 33,
   "id": "0ef24a05-a57c-4612-926b-67e02030e3bf",
   "metadata": {
    "execution": {
     "iopub.execute_input": "2025-01-22T11:59:33.956155Z",
     "iopub.status.busy": "2025-01-22T11:59:33.955509Z",
     "iopub.status.idle": "2025-01-22T11:59:33.965408Z",
     "shell.execute_reply": "2025-01-22T11:59:33.964620Z",
     "shell.execute_reply.started": "2025-01-22T11:59:33.956101Z"
    }
   },
   "outputs": [
    {
     "data": {
      "text/plain": [
       "tensor([[100.6542,  89.7241],\n",
       "        [124.2901, 131.5151],\n",
       "        [193.0202, 191.1420],\n",
       "        [ 84.3250,  23.3363],\n",
       "        [120.9170, 169.5660]], grad_fn=<AddBackward0>)"
      ]
     },
     "execution_count": 33,
     "metadata": {},
     "output_type": "execute_result"
    }
   ],
   "source": [
    "yhat = linear_regression(inputs)\n",
    "yhat"
   ]
  },
  {
   "cell_type": "code",
   "execution_count": 34,
   "id": "9e6c8ddd-55ef-4abe-9897-2cc60a8de169",
   "metadata": {
    "execution": {
     "iopub.execute_input": "2025-01-22T11:59:34.139348Z",
     "iopub.status.busy": "2025-01-22T11:59:34.139067Z",
     "iopub.status.idle": "2025-01-22T11:59:34.146724Z",
     "shell.execute_reply": "2025-01-22T11:59:34.146010Z",
     "shell.execute_reply.started": "2025-01-22T11:59:34.139326Z"
    }
   },
   "outputs": [
    {
     "data": {
      "text/plain": [
       "tensor(2099.6763, grad_fn=<DivBackward0>)"
      ]
     },
     "execution_count": 34,
     "metadata": {},
     "output_type": "execute_result"
    }
   ],
   "source": [
    "loss = mean_squared_error(yhat, targets)\n",
    "loss"
   ]
  },
  {
   "cell_type": "code",
   "execution_count": 35,
   "id": "95ab361b-867b-4289-8924-d28bfb79a598",
   "metadata": {
    "execution": {
     "iopub.execute_input": "2025-01-22T11:59:34.369982Z",
     "iopub.status.busy": "2025-01-22T11:59:34.369426Z",
     "iopub.status.idle": "2025-01-22T11:59:34.378481Z",
     "shell.execute_reply": "2025-01-22T11:59:34.377695Z",
     "shell.execute_reply.started": "2025-01-22T11:59:34.369936Z"
    }
   },
   "outputs": [
    {
     "data": {
      "text/plain": [
       "(tensor([[4246.4668, 4224.0142, 2508.8164],\n",
       "         [2274.0898, 3212.9336, 1841.4807]]),\n",
       " tensor([48.4413, 29.0567]))"
      ]
     },
     "execution_count": 35,
     "metadata": {},
     "output_type": "execute_result"
    }
   ],
   "source": [
    "loss.backward()\n",
    "w.grad, b.grad"
   ]
  },
  {
   "cell_type": "code",
   "execution_count": 36,
   "id": "29d648c6-fb4b-45ec-9d9d-ec6e69443516",
   "metadata": {
    "execution": {
     "iopub.execute_input": "2025-01-22T11:59:34.889906Z",
     "iopub.status.busy": "2025-01-22T11:59:34.889265Z",
     "iopub.status.idle": "2025-01-22T11:59:34.895808Z",
     "shell.execute_reply": "2025-01-22T11:59:34.894926Z",
     "shell.execute_reply.started": "2025-01-22T11:59:34.889852Z"
    }
   },
   "outputs": [],
   "source": [
    "with torch.no_grad():\n",
    "    w -= w.grad * 1e-5\n",
    "    b -= b.grad * 1e-5\n",
    "    w.grad.zero_()\n",
    "    b.grad.zero_()"
   ]
  },
  {
   "cell_type": "code",
   "execution_count": 37,
   "id": "887ab972-a733-477c-a1f9-3f616ed5cb00",
   "metadata": {
    "execution": {
     "iopub.execute_input": "2025-01-22T11:59:47.412789Z",
     "iopub.status.busy": "2025-01-22T11:59:47.410533Z",
     "iopub.status.idle": "2025-01-22T11:59:47.419668Z",
     "shell.execute_reply": "2025-01-22T11:59:47.418990Z",
     "shell.execute_reply.started": "2025-01-22T11:59:47.412660Z"
    }
   },
   "outputs": [
    {
     "data": {
      "text/plain": [
       "tensor(1543.4600, grad_fn=<DivBackward0>)"
      ]
     },
     "execution_count": 37,
     "metadata": {},
     "output_type": "execute_result"
    }
   ],
   "source": [
    "yhat = linear_regression(inputs)\n",
    "loss = mean_squared_error(yhat, targets)\n",
    "loss"
   ]
  },
  {
   "cell_type": "code",
   "execution_count": 39,
   "id": "e5182cc2-b8e2-4c47-9167-c0794d2bf997",
   "metadata": {
    "execution": {
     "iopub.execute_input": "2025-01-22T12:03:06.896465Z",
     "iopub.status.busy": "2025-01-22T12:03:06.895670Z",
     "iopub.status.idle": "2025-01-22T12:03:06.923879Z",
     "shell.execute_reply": "2025-01-22T12:03:06.923337Z",
     "shell.execute_reply.started": "2025-01-22T12:03:06.896400Z"
    },
    "scrolled": true
   },
   "outputs": [
    {
     "name": "stdout",
     "output_type": "stream",
     "text": [
      "Epoch 0/100 - Loss: 1543.4599609375\n",
      "Epoch 1/100 - Loss: 864.79150390625\n",
      "Epoch 2/100 - Loss: 707.8923950195312\n",
      "Epoch 3/100 - Loss: 601.0569458007812\n",
      "Epoch 4/100 - Loss: 527.9724731445312\n",
      "Epoch 5/100 - Loss: 477.6439514160156\n",
      "Epoch 6/100 - Loss: 442.6639099121094\n",
      "Epoch 7/100 - Loss: 418.0394592285156\n",
      "Epoch 8/100 - Loss: 400.4058837890625\n",
      "Epoch 9/100 - Loss: 387.4954833984375\n",
      "Epoch 10/100 - Loss: 377.7800598144531\n",
      "Epoch 11/100 - Loss: 370.2298278808594\n",
      "Epoch 12/100 - Loss: 364.1502380371094\n",
      "Epoch 13/100 - Loss: 359.0736389160156\n",
      "Epoch 14/100 - Loss: 354.6842346191406\n",
      "Epoch 15/100 - Loss: 350.7693176269531\n",
      "Epoch 16/100 - Loss: 347.1853942871094\n",
      "Epoch 17/100 - Loss: 343.8355407714844\n",
      "Epoch 18/100 - Loss: 340.6543884277344\n",
      "Epoch 19/100 - Loss: 337.59771728515625\n",
      "Epoch 20/100 - Loss: 334.63568115234375\n",
      "Epoch 21/100 - Loss: 331.7477111816406\n",
      "Epoch 22/100 - Loss: 328.9205017089844\n",
      "Epoch 23/100 - Loss: 326.1439514160156\n",
      "Epoch 24/100 - Loss: 323.4122619628906\n",
      "Epoch 25/100 - Loss: 320.72039794921875\n",
      "Epoch 26/100 - Loss: 318.06536865234375\n",
      "Epoch 27/100 - Loss: 315.4451599121094\n",
      "Epoch 28/100 - Loss: 312.85760498046875\n",
      "Epoch 29/100 - Loss: 310.30206298828125\n",
      "Epoch 30/100 - Loss: 307.77740478515625\n",
      "Epoch 31/100 - Loss: 305.28253173828125\n",
      "Epoch 32/100 - Loss: 302.8172302246094\n",
      "Epoch 33/100 - Loss: 300.380615234375\n",
      "Epoch 34/100 - Loss: 297.9726257324219\n",
      "Epoch 35/100 - Loss: 295.59271240234375\n",
      "Epoch 36/100 - Loss: 293.24017333984375\n",
      "Epoch 37/100 - Loss: 290.9150390625\n",
      "Epoch 38/100 - Loss: 288.61669921875\n",
      "Epoch 39/100 - Loss: 286.3448791503906\n",
      "Epoch 40/100 - Loss: 284.0990295410156\n",
      "Epoch 41/100 - Loss: 281.8793029785156\n",
      "Epoch 42/100 - Loss: 279.68487548828125\n",
      "Epoch 43/100 - Loss: 277.5157470703125\n",
      "Epoch 44/100 - Loss: 275.37139892578125\n",
      "Epoch 45/100 - Loss: 273.2516784667969\n",
      "Epoch 46/100 - Loss: 271.1560363769531\n",
      "Epoch 47/100 - Loss: 269.0845947265625\n",
      "Epoch 48/100 - Loss: 267.03668212890625\n",
      "Epoch 49/100 - Loss: 265.0120544433594\n",
      "Epoch 50/100 - Loss: 263.0105895996094\n",
      "Epoch 51/100 - Loss: 261.0318908691406\n",
      "Epoch 52/100 - Loss: 259.07568359375\n",
      "Epoch 53/100 - Loss: 257.1416320800781\n",
      "Epoch 54/100 - Loss: 255.2296142578125\n",
      "Epoch 55/100 - Loss: 253.33920288085938\n",
      "Epoch 56/100 - Loss: 251.47021484375\n",
      "Epoch 57/100 - Loss: 249.6221923828125\n",
      "Epoch 58/100 - Loss: 247.795166015625\n",
      "Epoch 59/100 - Loss: 245.98873901367188\n",
      "Epoch 60/100 - Loss: 244.202880859375\n",
      "Epoch 61/100 - Loss: 242.4369659423828\n",
      "Epoch 62/100 - Loss: 240.6907958984375\n",
      "Epoch 63/100 - Loss: 238.96435546875\n",
      "Epoch 64/100 - Loss: 237.25717163085938\n",
      "Epoch 65/100 - Loss: 235.56924438476562\n",
      "Epoch 66/100 - Loss: 233.900146484375\n",
      "Epoch 67/100 - Loss: 232.2497100830078\n",
      "Epoch 68/100 - Loss: 230.61764526367188\n",
      "Epoch 69/100 - Loss: 229.0038604736328\n",
      "Epoch 70/100 - Loss: 227.4079132080078\n",
      "Epoch 71/100 - Loss: 225.829833984375\n",
      "Epoch 72/100 - Loss: 224.2692413330078\n",
      "Epoch 73/100 - Loss: 222.72592163085938\n",
      "Epoch 74/100 - Loss: 221.19973754882812\n",
      "Epoch 75/100 - Loss: 219.6904754638672\n",
      "Epoch 76/100 - Loss: 218.1978759765625\n",
      "Epoch 77/100 - Loss: 216.7218017578125\n",
      "Epoch 78/100 - Loss: 215.261962890625\n",
      "Epoch 79/100 - Loss: 213.8180694580078\n",
      "Epoch 80/100 - Loss: 212.3902130126953\n",
      "Epoch 81/100 - Loss: 210.97802734375\n",
      "Epoch 82/100 - Loss: 209.5811309814453\n",
      "Epoch 83/100 - Loss: 208.19961547851562\n",
      "Epoch 84/100 - Loss: 206.8332977294922\n",
      "Epoch 85/100 - Loss: 205.481689453125\n",
      "Epoch 86/100 - Loss: 204.14492797851562\n",
      "Epoch 87/100 - Loss: 202.8227081298828\n",
      "Epoch 88/100 - Loss: 201.5147705078125\n",
      "Epoch 89/100 - Loss: 200.22116088867188\n",
      "Epoch 90/100 - Loss: 198.94154357910156\n",
      "Epoch 91/100 - Loss: 197.6756134033203\n",
      "Epoch 92/100 - Loss: 196.42349243164062\n",
      "Epoch 93/100 - Loss: 195.1848602294922\n",
      "Epoch 94/100 - Loss: 193.9595184326172\n",
      "Epoch 95/100 - Loss: 192.7474822998047\n",
      "Epoch 96/100 - Loss: 191.5483856201172\n",
      "Epoch 97/100 - Loss: 190.36207580566406\n",
      "Epoch 98/100 - Loss: 189.18844604492188\n",
      "Epoch 99/100 - Loss: 188.02737426757812\n"
     ]
    }
   ],
   "source": [
    "epochs = 100\n",
    "for i in range(epochs):\n",
    "    yhat = linear_regression(inputs)\n",
    "    loss = mean_squared_error(yhat, targets)\n",
    "    loss.backward()\n",
    "    with torch.no_grad():\n",
    "        w -= w.grad * 1e-5\n",
    "        b -= b.grad * 1e-5\n",
    "        w.grad.zero_()\n",
    "        b.grad.zero_()\n",
    "    print(f'Epoch {i+1}/{epochs} - Loss: {loss}')"
   ]
  },
  {
   "cell_type": "code",
   "execution_count": 40,
   "id": "1764a09d-9ce4-467d-b6b6-6d34a6c896f1",
   "metadata": {
    "execution": {
     "iopub.execute_input": "2025-01-22T12:03:28.063774Z",
     "iopub.status.busy": "2025-01-22T12:03:28.063205Z",
     "iopub.status.idle": "2025-01-22T12:03:28.072309Z",
     "shell.execute_reply": "2025-01-22T12:03:28.071736Z",
     "shell.execute_reply.started": "2025-01-22T12:03:28.063722Z"
    }
   },
   "outputs": [
    {
     "data": {
      "text/plain": [
       "tensor(186.8787, grad_fn=<DivBackward0>)"
      ]
     },
     "execution_count": 40,
     "metadata": {},
     "output_type": "execute_result"
    }
   ],
   "source": [
    "yhat = linear_regression(inputs)\n",
    "loss = mean_squared_error(yhat, targets)\n",
    "loss"
   ]
  },
  {
   "cell_type": "code",
   "execution_count": 41,
   "id": "bf17c5db-348b-4b3a-8eb3-c26b4aa559ba",
   "metadata": {
    "execution": {
     "iopub.execute_input": "2025-01-22T12:03:56.527099Z",
     "iopub.status.busy": "2025-01-22T12:03:56.526660Z",
     "iopub.status.idle": "2025-01-22T12:03:56.535318Z",
     "shell.execute_reply": "2025-01-22T12:03:56.534559Z",
     "shell.execute_reply.started": "2025-01-22T12:03:56.527067Z"
    }
   },
   "outputs": [
    {
     "data": {
      "text/plain": [
       "(tensor([[ 56.,  70.],\n",
       "         [ 81., 101.],\n",
       "         [119., 133.],\n",
       "         [ 22.,  37.],\n",
       "         [103., 119.]]),\n",
       " tensor([[ 60.0579,  66.9381],\n",
       "         [ 72.9384,  99.6642],\n",
       "         [135.1233, 140.6711],\n",
       "         [ 36.4272,  15.8782],\n",
       "         [ 76.9092, 130.0619]], grad_fn=<AddBackward0>))"
      ]
     },
     "execution_count": 41,
     "metadata": {},
     "output_type": "execute_result"
    }
   ],
   "source": [
    "targets, yhat"
   ]
  },
  {
   "cell_type": "markdown",
   "id": "7d50bdab-b8a6-444b-815d-58b8d096148a",
   "metadata": {},
   "source": [
    "# Using PyTorch"
   ]
  },
  {
   "cell_type": "code",
   "execution_count": 42,
   "id": "d214924f-b2d7-4b3e-a003-39226b46f8b6",
   "metadata": {
    "execution": {
     "iopub.execute_input": "2025-01-22T12:05:35.747549Z",
     "iopub.status.busy": "2025-01-22T12:05:35.746999Z",
     "iopub.status.idle": "2025-01-22T12:05:35.756787Z",
     "shell.execute_reply": "2025-01-22T12:05:35.756082Z",
     "shell.execute_reply.started": "2025-01-22T12:05:35.747509Z"
    }
   },
   "outputs": [
    {
     "data": {
      "text/plain": [
       "<torch.utils.data.dataset.TensorDataset at 0x1096a9d10>"
      ]
     },
     "execution_count": 42,
     "metadata": {},
     "output_type": "execute_result"
    }
   ],
   "source": [
    "from torch.utils.data import TensorDataset\n",
    "\n",
    "train_ds = TensorDataset(inputs, targets)\n",
    "train_ds"
   ]
  },
  {
   "cell_type": "code",
   "execution_count": 43,
   "id": "ee2cd8da-a609-4d4c-9bd6-4f2e491f0454",
   "metadata": {
    "execution": {
     "iopub.execute_input": "2025-01-22T12:06:35.650341Z",
     "iopub.status.busy": "2025-01-22T12:06:35.649823Z",
     "iopub.status.idle": "2025-01-22T12:06:35.657691Z",
     "shell.execute_reply": "2025-01-22T12:06:35.656745Z",
     "shell.execute_reply.started": "2025-01-22T12:06:35.650305Z"
    }
   },
   "outputs": [
    {
     "data": {
      "text/plain": [
       "<torch.utils.data.dataloader.DataLoader at 0x1167519d0>"
      ]
     },
     "execution_count": 43,
     "metadata": {},
     "output_type": "execute_result"
    }
   ],
   "source": [
    "from torch.utils.data import DataLoader\n",
    "\n",
    "train_dl = DataLoader(train_ds, shuffle=True)\n",
    "train_dl"
   ]
  },
  {
   "cell_type": "code",
   "execution_count": 44,
   "id": "07279dce-e96f-45c1-a76d-e3a075e78594",
   "metadata": {
    "execution": {
     "iopub.execute_input": "2025-01-22T12:07:01.533121Z",
     "iopub.status.busy": "2025-01-22T12:07:01.532234Z",
     "iopub.status.idle": "2025-01-22T12:07:01.545027Z",
     "shell.execute_reply": "2025-01-22T12:07:01.544450Z",
     "shell.execute_reply.started": "2025-01-22T12:07:01.533053Z"
    }
   },
   "outputs": [
    {
     "name": "stdout",
     "output_type": "stream",
     "text": [
      "tensor([[102.,  43.,  37.]]) tensor([[22., 37.]])\n"
     ]
    }
   ],
   "source": [
    "for x, y in train_dl:\n",
    "    print(x, y)\n",
    "    break"
   ]
  },
  {
   "cell_type": "code",
   "execution_count": 45,
   "id": "dd4ad704-b026-4ce0-ad8f-849970db7c3c",
   "metadata": {
    "execution": {
     "iopub.execute_input": "2025-01-22T12:07:55.624311Z",
     "iopub.status.busy": "2025-01-22T12:07:55.623078Z",
     "iopub.status.idle": "2025-01-22T12:07:55.632954Z",
     "shell.execute_reply": "2025-01-22T12:07:55.632333Z",
     "shell.execute_reply.started": "2025-01-22T12:07:55.624259Z"
    }
   },
   "outputs": [
    {
     "name": "stdout",
     "output_type": "stream",
     "text": [
      "Parameter containing:\n",
      "tensor([[-0.3683, -0.3759, -0.3779],\n",
      "        [-0.5106, -0.2519,  0.0807]], requires_grad=True)\n",
      "Parameter containing:\n",
      "tensor([ 0.5313, -0.3205], requires_grad=True)\n"
     ]
    }
   ],
   "source": [
    "from torch import nn\n",
    "\n",
    "model = nn.Linear(3,2)\n",
    "print(model.weight)\n",
    "print(model.bias)"
   ]
  },
  {
   "cell_type": "code",
   "execution_count": 46,
   "id": "75499986-3558-4ea6-aa6b-14b8dc56cb0c",
   "metadata": {
    "execution": {
     "iopub.execute_input": "2025-01-22T12:08:05.484654Z",
     "iopub.status.busy": "2025-01-22T12:08:05.484109Z",
     "iopub.status.idle": "2025-01-22T12:08:05.492031Z",
     "shell.execute_reply": "2025-01-22T12:08:05.491273Z",
     "shell.execute_reply.started": "2025-01-22T12:08:05.484615Z"
    }
   },
   "outputs": [
    {
     "data": {
      "text/plain": [
       "[Parameter containing:\n",
       " tensor([[-0.3683, -0.3759, -0.3779],\n",
       "         [-0.5106, -0.2519,  0.0807]], requires_grad=True),\n",
       " Parameter containing:\n",
       " tensor([ 0.5313, -0.3205], requires_grad=True)]"
      ]
     },
     "execution_count": 46,
     "metadata": {},
     "output_type": "execute_result"
    }
   ],
   "source": [
    "list(model.parameters())"
   ]
  },
  {
   "cell_type": "code",
   "execution_count": 47,
   "id": "421c28ab-d88b-4b39-a327-dd4f8323a688",
   "metadata": {
    "execution": {
     "iopub.execute_input": "2025-01-22T12:08:23.581759Z",
     "iopub.status.busy": "2025-01-22T12:08:23.581203Z",
     "iopub.status.idle": "2025-01-22T12:08:23.591191Z",
     "shell.execute_reply": "2025-01-22T12:08:23.590605Z",
     "shell.execute_reply.started": "2025-01-22T12:08:23.581701Z"
    }
   },
   "outputs": [
    {
     "data": {
      "text/plain": [
       "tensor([[ -67.7912,  -50.9966],\n",
       "        [ -90.2509,  -63.7809],\n",
       "        [-103.8019,  -73.8094],\n",
       "        [ -67.1828,  -60.2426],\n",
       "        [ -87.4230,  -54.0788]], grad_fn=<AddmmBackward0>)"
      ]
     },
     "execution_count": 47,
     "metadata": {},
     "output_type": "execute_result"
    }
   ],
   "source": [
    "yhat = model(inputs)\n",
    "yhat"
   ]
  },
  {
   "cell_type": "markdown",
   "id": "7551c50f-298a-4f2e-921c-b634a39579a8",
   "metadata": {},
   "source": [
    "### Loss Function"
   ]
  },
  {
   "cell_type": "code",
   "execution_count": 48,
   "id": "51595d42-77dc-413c-ab24-8071760633f2",
   "metadata": {
    "execution": {
     "iopub.execute_input": "2025-01-22T12:09:23.917744Z",
     "iopub.status.busy": "2025-01-22T12:09:23.917090Z",
     "iopub.status.idle": "2025-01-22T12:09:23.923917Z",
     "shell.execute_reply": "2025-01-22T12:09:23.922780Z",
     "shell.execute_reply.started": "2025-01-22T12:09:23.917708Z"
    }
   },
   "outputs": [],
   "source": [
    "from torch.nn import functional as F\n",
    "\n",
    "loss_fn = F.mse_loss"
   ]
  },
  {
   "cell_type": "code",
   "execution_count": 49,
   "id": "d5f06a05-a760-491a-ad1f-322354984ab6",
   "metadata": {
    "execution": {
     "iopub.execute_input": "2025-01-22T12:09:33.741381Z",
     "iopub.status.busy": "2025-01-22T12:09:33.740663Z",
     "iopub.status.idle": "2025-01-22T12:09:33.751928Z",
     "shell.execute_reply": "2025-01-22T12:09:33.751362Z",
     "shell.execute_reply.started": "2025-01-22T12:09:33.741322Z"
    }
   },
   "outputs": [
    {
     "data": {
      "text/plain": [
       "tensor(26248.1758, grad_fn=<MseLossBackward0>)"
      ]
     },
     "execution_count": 49,
     "metadata": {},
     "output_type": "execute_result"
    }
   ],
   "source": [
    "loss = loss_fn(yhat, targets)\n",
    "loss"
   ]
  },
  {
   "cell_type": "markdown",
   "id": "4398a81d-5b17-4c25-aaca-5b5eb83adddb",
   "metadata": {},
   "source": [
    "### Optimizer"
   ]
  },
  {
   "cell_type": "code",
   "execution_count": 50,
   "id": "719d3c15-d679-42d0-93fa-1491d79ab80f",
   "metadata": {
    "execution": {
     "iopub.execute_input": "2025-01-22T12:10:21.115685Z",
     "iopub.status.busy": "2025-01-22T12:10:21.115353Z",
     "iopub.status.idle": "2025-01-22T12:10:21.665177Z",
     "shell.execute_reply": "2025-01-22T12:10:21.664936Z",
     "shell.execute_reply.started": "2025-01-22T12:10:21.115659Z"
    }
   },
   "outputs": [
    {
     "data": {
      "text/plain": [
       "SGD (\n",
       "Parameter Group 0\n",
       "    dampening: 0\n",
       "    differentiable: False\n",
       "    foreach: None\n",
       "    fused: None\n",
       "    lr: 1e-05\n",
       "    maximize: False\n",
       "    momentum: 0\n",
       "    nesterov: False\n",
       "    weight_decay: 0\n",
       ")"
      ]
     },
     "execution_count": 50,
     "metadata": {},
     "output_type": "execute_result"
    }
   ],
   "source": [
    "from torch.optim import SGD\n",
    "\n",
    "opt = SGD(model.parameters(), lr=1e-5)\n",
    "opt"
   ]
  },
  {
   "cell_type": "code",
   "execution_count": 53,
   "id": "4cded275-498c-4779-a39d-df3f081ee427",
   "metadata": {
    "execution": {
     "iopub.execute_input": "2025-01-22T12:14:08.675667Z",
     "iopub.status.busy": "2025-01-22T12:14:08.675071Z",
     "iopub.status.idle": "2025-01-22T12:14:08.683961Z",
     "shell.execute_reply": "2025-01-22T12:14:08.682766Z",
     "shell.execute_reply.started": "2025-01-22T12:14:08.675617Z"
    }
   },
   "outputs": [],
   "source": [
    "def fit(epochs, model, loss_fn, opt, train_dl):\n",
    "    for epoch in range(epochs):\n",
    "        for x, y in train_dl:\n",
    "            # generate prediction\n",
    "            yhat = model(x)\n",
    "\n",
    "            # calculate loss\n",
    "            loss = loss_fn(yhat, y)\n",
    "\n",
    "            # compute backprop\n",
    "            loss.backward()\n",
    "\n",
    "            # update parameter\n",
    "            opt.step()\n",
    "\n",
    "            # reset gradient to zero\n",
    "            opt.zero_grad()\n",
    "        if (epoch+1) % 10 == 0:\n",
    "            print(f'Epoch {epoch+1}/{epochs} - Loss: {loss.item()}')"
   ]
  },
  {
   "cell_type": "code",
   "execution_count": 54,
   "id": "95ecf755-4cff-4b1c-ad50-f57a615617ec",
   "metadata": {
    "execution": {
     "iopub.execute_input": "2025-01-22T12:14:08.979169Z",
     "iopub.status.busy": "2025-01-22T12:14:08.978525Z",
     "iopub.status.idle": "2025-01-22T12:14:09.058796Z",
     "shell.execute_reply": "2025-01-22T12:14:09.058469Z",
     "shell.execute_reply.started": "2025-01-22T12:14:08.979121Z"
    }
   },
   "outputs": [
    {
     "name": "stdout",
     "output_type": "stream",
     "text": [
      "Epoch 10/100 - Loss: 309.8774108886719\n",
      "Epoch 20/100 - Loss: 20.270511627197266\n",
      "Epoch 30/100 - Loss: 1.775602102279663\n",
      "Epoch 40/100 - Loss: 105.69273376464844\n",
      "Epoch 50/100 - Loss: 61.20269012451172\n",
      "Epoch 60/100 - Loss: 7.004505157470703\n",
      "Epoch 70/100 - Loss: 3.079195976257324\n",
      "Epoch 80/100 - Loss: 3.332244396209717\n",
      "Epoch 90/100 - Loss: 2.338931083679199\n",
      "Epoch 100/100 - Loss: 31.582801818847656\n"
     ]
    }
   ],
   "source": [
    "epochs = 100\n",
    "fit(epochs, model, loss_fn, opt, train_dl)"
   ]
  },
  {
   "cell_type": "code",
   "execution_count": 55,
   "id": "35373ac8-60b9-49d7-b937-7e36fba6b761",
   "metadata": {
    "execution": {
     "iopub.execute_input": "2025-01-22T12:14:53.462272Z",
     "iopub.status.busy": "2025-01-22T12:14:53.461777Z",
     "iopub.status.idle": "2025-01-22T12:14:53.470027Z",
     "shell.execute_reply": "2025-01-22T12:14:53.469161Z",
     "shell.execute_reply.started": "2025-01-22T12:14:53.462242Z"
    }
   },
   "outputs": [
    {
     "data": {
      "text/plain": [
       "tensor([[ 58.1421,  70.8210],\n",
       "        [ 80.5763,  99.7070],\n",
       "        [123.1555, 135.7992],\n",
       "        [ 24.1640,  38.9944],\n",
       "        [ 97.2224, 116.1385]], grad_fn=<AddmmBackward0>)"
      ]
     },
     "execution_count": 55,
     "metadata": {},
     "output_type": "execute_result"
    }
   ],
   "source": [
    "yhat = model(inputs)\n",
    "yhat"
   ]
  },
  {
   "cell_type": "code",
   "execution_count": 56,
   "id": "aecc17d7-4c38-4b61-9af9-209a4526b622",
   "metadata": {
    "execution": {
     "iopub.execute_input": "2025-01-22T12:14:55.159107Z",
     "iopub.status.busy": "2025-01-22T12:14:55.158602Z",
     "iopub.status.idle": "2025-01-22T12:14:55.166017Z",
     "shell.execute_reply": "2025-01-22T12:14:55.165228Z",
     "shell.execute_reply.started": "2025-01-22T12:14:55.159074Z"
    }
   },
   "outputs": [
    {
     "data": {
      "text/plain": [
       "tensor([[ 56.,  70.],\n",
       "        [ 81., 101.],\n",
       "        [119., 133.],\n",
       "        [ 22.,  37.],\n",
       "        [103., 119.]])"
      ]
     },
     "execution_count": 56,
     "metadata": {},
     "output_type": "execute_result"
    }
   ],
   "source": [
    "targets"
   ]
  },
  {
   "cell_type": "code",
   "execution_count": 57,
   "id": "cd1ba174-29cf-4916-9e49-abdc531c2811",
   "metadata": {
    "execution": {
     "iopub.execute_input": "2025-01-22T12:15:10.442676Z",
     "iopub.status.busy": "2025-01-22T12:15:10.442193Z",
     "iopub.status.idle": "2025-01-22T12:15:10.450079Z",
     "shell.execute_reply": "2025-01-22T12:15:10.449567Z",
     "shell.execute_reply.started": "2025-01-22T12:15:10.442643Z"
    }
   },
   "outputs": [
    {
     "data": {
      "text/plain": [
       "tensor(8.2445, grad_fn=<MseLossBackward0>)"
      ]
     },
     "execution_count": 57,
     "metadata": {},
     "output_type": "execute_result"
    }
   ],
   "source": [
    "loss = loss_fn(yhat, targets)\n",
    "loss"
   ]
  },
  {
   "cell_type": "code",
   "execution_count": null,
   "id": "cdccf008-dc40-4463-95dc-6bfbf9a22224",
   "metadata": {},
   "outputs": [],
   "source": []
  }
 ],
 "metadata": {
  "kernelspec": {
   "display_name": "Python 3 (ipykernel)",
   "language": "python",
   "name": "python3"
  },
  "language_info": {
   "codemirror_mode": {
    "name": "ipython",
    "version": 3
   },
   "file_extension": ".py",
   "mimetype": "text/x-python",
   "name": "python",
   "nbconvert_exporter": "python",
   "pygments_lexer": "ipython3",
   "version": "3.11.8"
  }
 },
 "nbformat": 4,
 "nbformat_minor": 5
}
