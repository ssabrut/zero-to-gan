{
 "cells": [
  {
   "cell_type": "markdown",
   "id": "ca6a4cdf-c9ca-499d-ba29-da6a26d13f9b",
   "metadata": {},
   "source": [
    "# Tensors\n",
    "\n",
    "Create an Integer Tensor"
   ]
  },
  {
   "cell_type": "code",
   "execution_count": 1,
   "id": "fe321a5d-30f2-4462-95bc-2b221f0e4fd6",
   "metadata": {
    "execution": {
     "iopub.execute_input": "2025-01-22T09:13:26.321523Z",
     "iopub.status.busy": "2025-01-22T09:13:26.321376Z",
     "iopub.status.idle": "2025-01-22T09:13:27.052045Z",
     "shell.execute_reply": "2025-01-22T09:13:27.051796Z",
     "shell.execute_reply.started": "2025-01-22T09:13:26.321513Z"
    }
   },
   "outputs": [
    {
     "data": {
      "text/plain": [
       "tensor(1.)"
      ]
     },
     "execution_count": 1,
     "metadata": {},
     "output_type": "execute_result"
    }
   ],
   "source": [
    "import torch\n",
    "\n",
    "t1 = torch.tensor(1.)\n",
    "t1"
   ]
  },
  {
   "cell_type": "code",
   "execution_count": 2,
   "id": "c19bf4b5-682d-4750-9925-667b9983b07b",
   "metadata": {
    "execution": {
     "iopub.execute_input": "2025-01-22T09:13:27.053048Z",
     "iopub.status.busy": "2025-01-22T09:13:27.052932Z",
     "iopub.status.idle": "2025-01-22T09:13:27.054923Z",
     "shell.execute_reply": "2025-01-22T09:13:27.054732Z",
     "shell.execute_reply.started": "2025-01-22T09:13:27.053040Z"
    }
   },
   "outputs": [
    {
     "data": {
      "text/plain": [
       "torch.float32"
      ]
     },
     "execution_count": 2,
     "metadata": {},
     "output_type": "execute_result"
    }
   ],
   "source": [
    "t1.dtype"
   ]
  },
  {
   "cell_type": "markdown",
   "id": "bb0e592e-f88b-426d-b489-ccf9a88cf08d",
   "metadata": {},
   "source": [
    "Create a Vector Tensor,"
   ]
  },
  {
   "cell_type": "code",
   "execution_count": 3,
   "id": "6c20d3a8-56fa-4d5c-b068-1497422b0711",
   "metadata": {
    "execution": {
     "iopub.execute_input": "2025-01-22T09:13:27.055296Z",
     "iopub.status.busy": "2025-01-22T09:13:27.055223Z",
     "iopub.status.idle": "2025-01-22T09:13:27.057555Z",
     "shell.execute_reply": "2025-01-22T09:13:27.057327Z",
     "shell.execute_reply.started": "2025-01-22T09:13:27.055288Z"
    }
   },
   "outputs": [
    {
     "data": {
      "text/plain": [
       "tensor([1., 2., 3., 4.])"
      ]
     },
     "execution_count": 3,
     "metadata": {},
     "output_type": "execute_result"
    }
   ],
   "source": [
    "t2 = torch.tensor([1,2.,3,4])\n",
    "t2"
   ]
  },
  {
   "cell_type": "markdown",
   "id": "317b50c2-55ee-4bac-9425-08a1b23d3597",
   "metadata": {},
   "source": [
    "Create a Matrix Tensor"
   ]
  },
  {
   "cell_type": "code",
   "execution_count": 4,
   "id": "c7bad2e3-0284-4960-bc9b-d26ae5e82184",
   "metadata": {
    "execution": {
     "iopub.execute_input": "2025-01-22T09:13:27.057930Z",
     "iopub.status.busy": "2025-01-22T09:13:27.057868Z",
     "iopub.status.idle": "2025-01-22T09:13:27.060152Z",
     "shell.execute_reply": "2025-01-22T09:13:27.059957Z",
     "shell.execute_reply.started": "2025-01-22T09:13:27.057923Z"
    }
   },
   "outputs": [
    {
     "data": {
      "text/plain": [
       "tensor([[1., 2., 3.],\n",
       "        [4., 5., 6.]])"
      ]
     },
     "execution_count": 4,
     "metadata": {},
     "output_type": "execute_result"
    }
   ],
   "source": [
    "t3 = torch.tensor([\n",
    "    [1.,2,3],\n",
    "    [4,5,6]\n",
    "])\n",
    "t3"
   ]
  },
  {
   "cell_type": "markdown",
   "id": "2a5b2a80-dd60-4891-968a-141888f7fb13",
   "metadata": {},
   "source": [
    "Create a 3D Array"
   ]
  },
  {
   "cell_type": "code",
   "execution_count": 5,
   "id": "595b2036-42fb-4328-b89c-56063cfee54d",
   "metadata": {
    "execution": {
     "iopub.execute_input": "2025-01-22T09:13:27.060587Z",
     "iopub.status.busy": "2025-01-22T09:13:27.060480Z",
     "iopub.status.idle": "2025-01-22T09:13:27.062896Z",
     "shell.execute_reply": "2025-01-22T09:13:27.062689Z",
     "shell.execute_reply.started": "2025-01-22T09:13:27.060579Z"
    }
   },
   "outputs": [
    {
     "data": {
      "text/plain": [
       "tensor([[[ 1.,  2.,  3.],\n",
       "         [ 4.,  5.,  6.]],\n",
       "\n",
       "        [[ 7.,  8.,  9.],\n",
       "         [10., 11., 12.]]])"
      ]
     },
     "execution_count": 5,
     "metadata": {},
     "output_type": "execute_result"
    }
   ],
   "source": [
    "t4 = torch.tensor([\n",
    "    [\n",
    "        [1,2,3.],\n",
    "        [4,5,6]\n",
    "    ],\n",
    "    [\n",
    "        [7,8,9],\n",
    "        [10,11,12]\n",
    "    ]\n",
    "])\n",
    "t4"
   ]
  },
  {
   "cell_type": "markdown",
   "id": "1ca54854-3e2c-49ef-9ae8-8b8f642062d2",
   "metadata": {},
   "source": [
    "Print the created tensor and each shape"
   ]
  },
  {
   "cell_type": "code",
   "execution_count": 6,
   "id": "532e4e2b-7158-45a9-a534-f42657321b74",
   "metadata": {
    "execution": {
     "iopub.execute_input": "2025-01-22T09:13:27.063253Z",
     "iopub.status.busy": "2025-01-22T09:13:27.063190Z",
     "iopub.status.idle": "2025-01-22T09:13:27.065319Z",
     "shell.execute_reply": "2025-01-22T09:13:27.065133Z",
     "shell.execute_reply.started": "2025-01-22T09:13:27.063246Z"
    }
   },
   "outputs": [
    {
     "name": "stdout",
     "output_type": "stream",
     "text": [
      "tensor(1.)\n"
     ]
    },
    {
     "data": {
      "text/plain": [
       "torch.Size([])"
      ]
     },
     "execution_count": 6,
     "metadata": {},
     "output_type": "execute_result"
    }
   ],
   "source": [
    "print(t1)\n",
    "t1.shape"
   ]
  },
  {
   "cell_type": "code",
   "execution_count": 7,
   "id": "2a2ae4e2-0cff-4b53-b131-218209279bf8",
   "metadata": {
    "execution": {
     "iopub.execute_input": "2025-01-22T09:13:27.066900Z",
     "iopub.status.busy": "2025-01-22T09:13:27.066817Z",
     "iopub.status.idle": "2025-01-22T09:13:27.069082Z",
     "shell.execute_reply": "2025-01-22T09:13:27.068872Z",
     "shell.execute_reply.started": "2025-01-22T09:13:27.066893Z"
    }
   },
   "outputs": [
    {
     "name": "stdout",
     "output_type": "stream",
     "text": [
      "tensor([1., 2., 3., 4.])\n"
     ]
    },
    {
     "data": {
      "text/plain": [
       "torch.Size([4])"
      ]
     },
     "execution_count": 7,
     "metadata": {},
     "output_type": "execute_result"
    }
   ],
   "source": [
    "print(t2)\n",
    "t2.shape"
   ]
  },
  {
   "cell_type": "code",
   "execution_count": 8,
   "id": "dd097f17-2500-41f6-815c-dd47d4053b5e",
   "metadata": {
    "execution": {
     "iopub.execute_input": "2025-01-22T09:13:27.069489Z",
     "iopub.status.busy": "2025-01-22T09:13:27.069413Z",
     "iopub.status.idle": "2025-01-22T09:13:27.071840Z",
     "shell.execute_reply": "2025-01-22T09:13:27.071622Z",
     "shell.execute_reply.started": "2025-01-22T09:13:27.069481Z"
    }
   },
   "outputs": [
    {
     "name": "stdout",
     "output_type": "stream",
     "text": [
      "tensor([[1., 2., 3.],\n",
      "        [4., 5., 6.]])\n"
     ]
    },
    {
     "data": {
      "text/plain": [
       "torch.Size([2, 3])"
      ]
     },
     "execution_count": 8,
     "metadata": {},
     "output_type": "execute_result"
    }
   ],
   "source": [
    "print(t3)\n",
    "t3.shape"
   ]
  },
  {
   "cell_type": "code",
   "execution_count": 9,
   "id": "ed3e5896-26aa-49a9-a7c1-0d5ed5d43b1d",
   "metadata": {
    "execution": {
     "iopub.execute_input": "2025-01-22T09:13:27.072200Z",
     "iopub.status.busy": "2025-01-22T09:13:27.072113Z",
     "iopub.status.idle": "2025-01-22T09:13:27.075208Z",
     "shell.execute_reply": "2025-01-22T09:13:27.075003Z",
     "shell.execute_reply.started": "2025-01-22T09:13:27.072193Z"
    }
   },
   "outputs": [
    {
     "name": "stdout",
     "output_type": "stream",
     "text": [
      "tensor([[[ 1.,  2.,  3.],\n",
      "         [ 4.,  5.,  6.]],\n",
      "\n",
      "        [[ 7.,  8.,  9.],\n",
      "         [10., 11., 12.]]])\n"
     ]
    },
    {
     "data": {
      "text/plain": [
       "torch.Size([2, 2, 3])"
      ]
     },
     "execution_count": 9,
     "metadata": {},
     "output_type": "execute_result"
    }
   ],
   "source": [
    "print(t4)\n",
    "t4.shape"
   ]
  },
  {
   "cell_type": "markdown",
   "id": "6f192c76-c8ee-4994-8e61-5666750c0d3d",
   "metadata": {},
   "source": [
    "How about creating a tensor with different shape?"
   ]
  },
  {
   "cell_type": "code",
   "execution_count": 10,
   "id": "0e7b9e65-784e-458f-9709-a16375edca6c",
   "metadata": {
    "execution": {
     "iopub.execute_input": "2025-01-22T09:13:27.075752Z",
     "iopub.status.busy": "2025-01-22T09:13:27.075686Z",
     "iopub.status.idle": "2025-01-22T09:13:27.252238Z",
     "shell.execute_reply": "2025-01-22T09:13:27.251786Z",
     "shell.execute_reply.started": "2025-01-22T09:13:27.075744Z"
    }
   },
   "outputs": [
    {
     "ename": "ValueError",
     "evalue": "expected sequence of length 3 at dim 1 (got 2)",
     "output_type": "error",
     "traceback": [
      "\u001b[0;31m---------------------------------------------------------------------------\u001b[0m",
      "\u001b[0;31mValueError\u001b[0m                                Traceback (most recent call last)",
      "Cell \u001b[0;32mIn[10], line 1\u001b[0m\n\u001b[0;32m----> 1\u001b[0m t5 \u001b[38;5;241m=\u001b[39m torch\u001b[38;5;241m.\u001b[39mtensor([\n\u001b[1;32m      2\u001b[0m     [\u001b[38;5;241m1\u001b[39m,\u001b[38;5;241m2.\u001b[39m,\u001b[38;5;241m3\u001b[39m],\n\u001b[1;32m      3\u001b[0m     [\u001b[38;5;241m4\u001b[39m,\u001b[38;5;241m5\u001b[39m],\n\u001b[1;32m      4\u001b[0m     [\u001b[38;5;241m6\u001b[39m,\u001b[38;5;241m7\u001b[39m]\n\u001b[1;32m      5\u001b[0m ])\n",
      "\u001b[0;31mValueError\u001b[0m: expected sequence of length 3 at dim 1 (got 2)"
     ]
    }
   ],
   "source": [
    "t5 = torch.tensor([\n",
    "    [1,2.,3],\n",
    "    [4,5],\n",
    "    [6,7]\n",
    "])"
   ]
  },
  {
   "cell_type": "markdown",
   "id": "0bbcccb8-83c2-4389-90d2-a43e8230a3aa",
   "metadata": {},
   "source": [
    "### Tensor Operation and Gradients"
   ]
  },
  {
   "cell_type": "code",
   "execution_count": 11,
   "id": "033e13ae-2b3f-4d42-9572-86f5839837eb",
   "metadata": {
    "execution": {
     "iopub.execute_input": "2025-01-22T09:13:30.089759Z",
     "iopub.status.busy": "2025-01-22T09:13:30.089202Z",
     "iopub.status.idle": "2025-01-22T09:13:30.098653Z",
     "shell.execute_reply": "2025-01-22T09:13:30.097830Z",
     "shell.execute_reply.started": "2025-01-22T09:13:30.089720Z"
    }
   },
   "outputs": [
    {
     "data": {
      "text/plain": [
       "(tensor(1.), tensor(2., requires_grad=True), tensor(3., requires_grad=True))"
      ]
     },
     "execution_count": 11,
     "metadata": {},
     "output_type": "execute_result"
    }
   ],
   "source": [
    "x = torch.tensor(1.) # we do not need the gradient from the x (or usually called input)\n",
    "w = torch.tensor(2., requires_grad=True)\n",
    "b = torch.tensor(3., requires_grad=True)\n",
    "x, w, b"
   ]
  },
  {
   "cell_type": "code",
   "execution_count": 12,
   "id": "446edbcb-4e2d-46e7-958c-26735cec839c",
   "metadata": {
    "execution": {
     "iopub.execute_input": "2025-01-22T09:13:30.276701Z",
     "iopub.status.busy": "2025-01-22T09:13:30.276023Z",
     "iopub.status.idle": "2025-01-22T09:13:30.286458Z",
     "shell.execute_reply": "2025-01-22T09:13:30.285741Z",
     "shell.execute_reply.started": "2025-01-22T09:13:30.276644Z"
    }
   },
   "outputs": [
    {
     "data": {
      "text/plain": [
       "tensor(5., grad_fn=<AddBackward0>)"
      ]
     },
     "execution_count": 12,
     "metadata": {},
     "output_type": "execute_result"
    }
   ],
   "source": [
    "y = w * x + b\n",
    "y"
   ]
  },
  {
   "cell_type": "markdown",
   "id": "10ff0849-ae6f-4802-b056-f6e343057970",
   "metadata": {},
   "source": [
    "Compute the gradients of `y`"
   ]
  },
  {
   "cell_type": "code",
   "execution_count": 13,
   "id": "0e987c71-453b-4692-b746-de513f772b50",
   "metadata": {
    "execution": {
     "iopub.execute_input": "2025-01-22T09:13:30.621806Z",
     "iopub.status.busy": "2025-01-22T09:13:30.621138Z",
     "iopub.status.idle": "2025-01-22T09:13:30.652249Z",
     "shell.execute_reply": "2025-01-22T09:13:30.651950Z",
     "shell.execute_reply.started": "2025-01-22T09:13:30.621755Z"
    }
   },
   "outputs": [
    {
     "data": {
      "text/plain": [
       "tensor(5., grad_fn=<AddBackward0>)"
      ]
     },
     "execution_count": 13,
     "metadata": {},
     "output_type": "execute_result"
    }
   ],
   "source": [
    "y.backward()\n",
    "y"
   ]
  },
  {
   "cell_type": "markdown",
   "id": "30005477-adab-4ef6-a201-a31d4e13ac0d",
   "metadata": {},
   "source": [
    "Now we display the gradients"
   ]
  },
  {
   "cell_type": "code",
   "execution_count": 14,
   "id": "671456db-5cd4-496e-8775-80eed207fc12",
   "metadata": {
    "execution": {
     "iopub.execute_input": "2025-01-22T09:13:30.981218Z",
     "iopub.status.busy": "2025-01-22T09:13:30.980383Z",
     "iopub.status.idle": "2025-01-22T09:13:30.989388Z",
     "shell.execute_reply": "2025-01-22T09:13:30.988785Z",
     "shell.execute_reply.started": "2025-01-22T09:13:30.981163Z"
    }
   },
   "outputs": [
    {
     "name": "stdout",
     "output_type": "stream",
     "text": [
      "dy/dx None\n",
      "dy/dw tensor(1.)\n",
      "dy/db tensor(1.)\n"
     ]
    }
   ],
   "source": [
    "print('dy/dx', x.grad)\n",
    "print('dy/dw', w.grad)\n",
    "print('dy/db', b.grad)"
   ]
  },
  {
   "cell_type": "markdown",
   "id": "6994a477-29ce-4ad7-bcdd-4662fe954af4",
   "metadata": {},
   "source": [
    "### Tensor Functions\n",
    "\n",
    "Create a tensor with a fixed value for every element"
   ]
  },
  {
   "cell_type": "code",
   "execution_count": 15,
   "id": "343a09ee-44d6-4811-8cca-6aff22b93344",
   "metadata": {
    "execution": {
     "iopub.execute_input": "2025-01-22T09:13:32.771913Z",
     "iopub.status.busy": "2025-01-22T09:13:32.771341Z",
     "iopub.status.idle": "2025-01-22T09:13:32.781297Z",
     "shell.execute_reply": "2025-01-22T09:13:32.780669Z",
     "shell.execute_reply.started": "2025-01-22T09:13:32.771863Z"
    }
   },
   "outputs": [
    {
     "data": {
      "text/plain": [
       "tensor([[42, 42, 42],\n",
       "        [42, 42, 42]])"
      ]
     },
     "execution_count": 15,
     "metadata": {},
     "output_type": "execute_result"
    }
   ],
   "source": [
    "# will create a matrix of 3 row and 2 columns with 42 as value\n",
    "t6 = torch.full((2,3), 42)\n",
    "t6"
   ]
  },
  {
   "cell_type": "code",
   "execution_count": 16,
   "id": "8758cb51-83c5-4e4e-b223-981c2692fae5",
   "metadata": {
    "execution": {
     "iopub.execute_input": "2025-01-22T09:13:32.930970Z",
     "iopub.status.busy": "2025-01-22T09:13:32.930385Z",
     "iopub.status.idle": "2025-01-22T09:13:32.942073Z",
     "shell.execute_reply": "2025-01-22T09:13:32.941158Z",
     "shell.execute_reply.started": "2025-01-22T09:13:32.930921Z"
    }
   },
   "outputs": [
    {
     "data": {
      "text/plain": [
       "(tensor([[1., 2., 3.],\n",
       "         [4., 5., 6.]]),\n",
       " tensor([[42, 42, 42],\n",
       "         [42, 42, 42]]),\n",
       " tensor([[ 1.,  2.,  3.],\n",
       "         [ 4.,  5.,  6.],\n",
       "         [42., 42., 42.],\n",
       "         [42., 42., 42.]]))"
      ]
     },
     "execution_count": 16,
     "metadata": {},
     "output_type": "execute_result"
    }
   ],
   "source": [
    "# concatenate two tensors\n",
    "t7 = torch.cat((t3,t6))\n",
    "t3, t6, t7"
   ]
  },
  {
   "cell_type": "code",
   "execution_count": 17,
   "id": "0c039df7-53f7-47a1-afa8-e8995698932b",
   "metadata": {
    "execution": {
     "iopub.execute_input": "2025-01-22T09:13:33.111556Z",
     "iopub.status.busy": "2025-01-22T09:13:33.110848Z",
     "iopub.status.idle": "2025-01-22T09:13:33.120108Z",
     "shell.execute_reply": "2025-01-22T09:13:33.119605Z",
     "shell.execute_reply.started": "2025-01-22T09:13:33.111501Z"
    }
   },
   "outputs": [
    {
     "data": {
      "text/plain": [
       "tensor([[ 0.8415,  0.9093,  0.1411],\n",
       "        [-0.7568, -0.9589, -0.2794],\n",
       "        [-0.9165, -0.9165, -0.9165],\n",
       "        [-0.9165, -0.9165, -0.9165]])"
      ]
     },
     "execution_count": 17,
     "metadata": {},
     "output_type": "execute_result"
    }
   ],
   "source": [
    "# get the sin of the tensor\n",
    "t8 = torch.sin(t7)\n",
    "t8"
   ]
  },
  {
   "cell_type": "code",
   "execution_count": 18,
   "id": "550186d4-7e23-49ce-9805-034e4cdd20b8",
   "metadata": {
    "execution": {
     "iopub.execute_input": "2025-01-22T09:13:33.290450Z",
     "iopub.status.busy": "2025-01-22T09:13:33.289780Z",
     "iopub.status.idle": "2025-01-22T09:13:33.298177Z",
     "shell.execute_reply": "2025-01-22T09:13:33.297739Z",
     "shell.execute_reply.started": "2025-01-22T09:13:33.290372Z"
    }
   },
   "outputs": [
    {
     "data": {
      "text/plain": [
       "tensor([[[ 0.8415,  0.9093],\n",
       "         [ 0.1411, -0.7568]],\n",
       "\n",
       "        [[-0.9589, -0.2794],\n",
       "         [-0.9165, -0.9165]],\n",
       "\n",
       "        [[-0.9165, -0.9165],\n",
       "         [-0.9165, -0.9165]]])"
      ]
     },
     "execution_count": 18,
     "metadata": {},
     "output_type": "execute_result"
    }
   ],
   "source": [
    "# reshape from 4 x 3 matrix to 3 dimensions 2 rows and 2 columns\n",
    "t9 = t8.reshape(3,2,2)\n",
    "t9"
   ]
  },
  {
   "cell_type": "markdown",
   "id": "4504b582-fda4-4f93-befc-e6175d760b02",
   "metadata": {},
   "source": [
    "# Gradient Descent and Linear Regression\n",
    "\n",
    "Create training data for temperature, rainfall, humidity. Our task is to predict the yield of apple and orange"
   ]
  },
  {
   "cell_type": "code",
   "execution_count": 19,
   "id": "df99a17f-fcab-4a0e-b414-5e9d6563d3bf",
   "metadata": {
    "execution": {
     "iopub.execute_input": "2025-01-22T11:33:59.608700Z",
     "iopub.status.busy": "2025-01-22T11:33:59.606941Z",
     "iopub.status.idle": "2025-01-22T11:33:59.628024Z",
     "shell.execute_reply": "2025-01-22T11:33:59.627552Z",
     "shell.execute_reply.started": "2025-01-22T11:33:59.608644Z"
    }
   },
   "outputs": [
    {
     "data": {
      "text/plain": [
       "array([[ 73.,  67.,  43.],\n",
       "       [ 91.,  88.,  64.],\n",
       "       [ 87., 134.,  58.],\n",
       "       [102.,  43.,  37.],\n",
       "       [ 69.,  96.,  70.]], dtype=float32)"
      ]
     },
     "execution_count": 19,
     "metadata": {},
     "output_type": "execute_result"
    }
   ],
   "source": [
    "import numpy as np\n",
    "\n",
    "inputs = np.array([\n",
    "    [73,67,43],\n",
    "    [91,88,64],\n",
    "    [87,134,58],\n",
    "    [102,43,37],\n",
    "    [69,96,70]\n",
    "], dtype=np.float32)\n",
    "inputs"
   ]
  },
  {
   "cell_type": "code",
   "execution_count": 20,
   "id": "78cdcfc4-140f-42b8-9db4-b0c97174baa5",
   "metadata": {
    "execution": {
     "iopub.execute_input": "2025-01-22T11:35:41.666196Z",
     "iopub.status.busy": "2025-01-22T11:35:41.665802Z",
     "iopub.status.idle": "2025-01-22T11:35:41.676124Z",
     "shell.execute_reply": "2025-01-22T11:35:41.675138Z",
     "shell.execute_reply.started": "2025-01-22T11:35:41.666168Z"
    }
   },
   "outputs": [
    {
     "data": {
      "text/plain": [
       "array([[ 56.,  70.],\n",
       "       [ 81., 101.],\n",
       "       [119., 133.],\n",
       "       [ 22.,  37.],\n",
       "       [103., 119.]], dtype=float32)"
      ]
     },
     "execution_count": 20,
     "metadata": {},
     "output_type": "execute_result"
    }
   ],
   "source": [
    "# first column is for apple yield, second is for orange yield\n",
    "targets = np.array([\n",
    "    [56,70],\n",
    "    [81,101],\n",
    "    [119,133],\n",
    "    [22,37],\n",
    "    [103,119]\n",
    "], dtype=np.float32)\n",
    "targets"
   ]
  },
  {
   "cell_type": "markdown",
   "id": "48a24956-d857-4978-8e73-281d860c38b9",
   "metadata": {},
   "source": [
    "Convert to tensor"
   ]
  },
  {
   "cell_type": "code",
   "execution_count": 21,
   "id": "cdd59c2e-419a-4a52-9376-541b470b6de2",
   "metadata": {
    "execution": {
     "iopub.execute_input": "2025-01-22T11:36:13.922990Z",
     "iopub.status.busy": "2025-01-22T11:36:13.922440Z",
     "iopub.status.idle": "2025-01-22T11:36:13.975967Z",
     "shell.execute_reply": "2025-01-22T11:36:13.975483Z",
     "shell.execute_reply.started": "2025-01-22T11:36:13.922951Z"
    }
   },
   "outputs": [
    {
     "data": {
      "text/plain": [
       "(tensor([[ 73.,  67.,  43.],\n",
       "         [ 91.,  88.,  64.],\n",
       "         [ 87., 134.,  58.],\n",
       "         [102.,  43.,  37.],\n",
       "         [ 69.,  96.,  70.]]),\n",
       " tensor([[ 56.,  70.],\n",
       "         [ 81., 101.],\n",
       "         [119., 133.],\n",
       "         [ 22.,  37.],\n",
       "         [103., 119.]]))"
      ]
     },
     "execution_count": 21,
     "metadata": {},
     "output_type": "execute_result"
    }
   ],
   "source": [
    "inputs = torch.from_numpy(inputs)\n",
    "targets = torch.from_numpy(targets)\n",
    "inputs, targets"
   ]
  },
  {
   "cell_type": "markdown",
   "id": "5668b7da-41d3-45b8-8212-061984b5ffad",
   "metadata": {},
   "source": [
    "### Create Linear Regression"
   ]
  },
  {
   "cell_type": "code",
   "execution_count": 22,
   "id": "c205a3a8-a8d9-489e-85e1-f5f1a81ec026",
   "metadata": {
    "execution": {
     "iopub.execute_input": "2025-01-22T11:38:38.105625Z",
     "iopub.status.busy": "2025-01-22T11:38:38.104284Z",
     "iopub.status.idle": "2025-01-22T11:38:38.121881Z",
     "shell.execute_reply": "2025-01-22T11:38:38.121373Z",
     "shell.execute_reply.started": "2025-01-22T11:38:38.105550Z"
    }
   },
   "outputs": [
    {
     "data": {
      "text/plain": [
       "(tensor([[ 2.1910, -0.3951, -0.0937],\n",
       "         [ 0.8025, -0.4211,  0.1909]], requires_grad=True),\n",
       " tensor([ 0.6120, -0.6747], requires_grad=True))"
      ]
     },
     "execution_count": 22,
     "metadata": {},
     "output_type": "execute_result"
    }
   ],
   "source": [
    "# 2 row for apple and orange, 3 columns for features\n",
    "w = torch.randn(2, 3, requires_grad=True)\n",
    "b = torch.randn(2, requires_grad=True)\n",
    "w, b"
   ]
  },
  {
   "cell_type": "code",
   "execution_count": 23,
   "id": "6adca28b-968f-45fe-b5a3-5000d882b3ec",
   "metadata": {
    "execution": {
     "iopub.execute_input": "2025-01-22T11:41:57.337724Z",
     "iopub.status.busy": "2025-01-22T11:41:57.337175Z",
     "iopub.status.idle": "2025-01-22T11:41:57.358225Z",
     "shell.execute_reply": "2025-01-22T11:41:57.357755Z",
     "shell.execute_reply.started": "2025-01-22T11:41:57.337679Z"
    }
   },
   "outputs": [
    {
     "data": {
      "text/plain": [
       "tensor([[130.0470,  37.9054],\n",
       "        [159.2179,  47.5169],\n",
       "        [132.8403,  23.7897],\n",
       "        [203.6304,  70.1406],\n",
       "        [107.2934,  27.6375]], grad_fn=<AddBackward0>)"
      ]
     },
     "execution_count": 23,
     "metadata": {},
     "output_type": "execute_result"
    }
   ],
   "source": [
    "def linear_regression(x):\n",
    "    # @ is for matrix multiplication or we could use torch.matmul(x, w.t())\n",
    "    return x @ w.t() + b\n",
    "\n",
    "yhat = linear_regression(inputs)\n",
    "yhat"
   ]
  },
  {
   "cell_type": "code",
   "execution_count": 24,
   "id": "58937c5f-1732-4c4e-8036-5b6ab097d8be",
   "metadata": {
    "execution": {
     "iopub.execute_input": "2025-01-22T11:42:11.260969Z",
     "iopub.status.busy": "2025-01-22T11:42:11.260259Z",
     "iopub.status.idle": "2025-01-22T11:42:11.270969Z",
     "shell.execute_reply": "2025-01-22T11:42:11.270087Z",
     "shell.execute_reply.started": "2025-01-22T11:42:11.260928Z"
    }
   },
   "outputs": [
    {
     "data": {
      "text/plain": [
       "tensor([[ 56.,  70.],\n",
       "        [ 81., 101.],\n",
       "        [119., 133.],\n",
       "        [ 22.,  37.],\n",
       "        [103., 119.]])"
      ]
     },
     "execution_count": 24,
     "metadata": {},
     "output_type": "execute_result"
    }
   ],
   "source": [
    "targets"
   ]
  },
  {
   "cell_type": "markdown",
   "id": "966a380b-a87c-4861-a0a9-0d703bc76fd2",
   "metadata": {},
   "source": [
    "### Loss Function"
   ]
  },
  {
   "cell_type": "code",
   "execution_count": 29,
   "id": "7dbb82d3-6f89-461c-9164-a82a6bbb2011",
   "metadata": {
    "execution": {
     "iopub.execute_input": "2025-01-22T11:49:03.404862Z",
     "iopub.status.busy": "2025-01-22T11:49:03.404111Z",
     "iopub.status.idle": "2025-01-22T11:49:03.413957Z",
     "shell.execute_reply": "2025-01-22T11:49:03.413095Z",
     "shell.execute_reply.started": "2025-01-22T11:49:03.404795Z"
    }
   },
   "outputs": [
    {
     "data": {
      "text/plain": [
       "tensor(7006.3398, grad_fn=<DivBackward0>)"
      ]
     },
     "execution_count": 29,
     "metadata": {},
     "output_type": "execute_result"
    }
   ],
   "source": [
    "def mean_squared_error(y_pred, y_true):\n",
    "    diff = y_pred - y_true\n",
    "    return torch.sum(diff ** 2) / diff.numel()\n",
    "\n",
    "loss = mean_squared_error(yhat, targets)\n",
    "loss"
   ]
  },
  {
   "cell_type": "markdown",
   "id": "5a0bcf19-4de8-4407-9c2e-08ae13134031",
   "metadata": {},
   "source": [
    "### Compute Gradients"
   ]
  },
  {
   "cell_type": "code",
   "execution_count": 30,
   "id": "b7ffb5e4-ac5d-427f-8401-eea3b558cd82",
   "metadata": {
    "execution": {
     "iopub.execute_input": "2025-01-22T11:49:14.219157Z",
     "iopub.status.busy": "2025-01-22T11:49:14.218750Z",
     "iopub.status.idle": "2025-01-22T11:49:14.234366Z",
     "shell.execute_reply": "2025-01-22T11:49:14.233788Z",
     "shell.execute_reply.started": "2025-01-22T11:49:14.219128Z"
    }
   },
   "outputs": [],
   "source": [
    "loss.backward()"
   ]
  },
  {
   "cell_type": "code",
   "execution_count": 31,
   "id": "4a15dbdf-20c9-4a1f-9db0-f154593108a1",
   "metadata": {
    "execution": {
     "iopub.execute_input": "2025-01-22T11:49:18.831463Z",
     "iopub.status.busy": "2025-01-22T11:49:18.830845Z",
     "iopub.status.idle": "2025-01-22T11:49:18.839905Z",
     "shell.execute_reply": "2025-01-22T11:49:18.838895Z",
     "shell.execute_reply.started": "2025-01-22T11:49:18.831421Z"
    }
   },
   "outputs": [
    {
     "data": {
      "text/plain": [
       "(tensor([[ 2.1910, -0.3951, -0.0937],\n",
       "         [ 0.8025, -0.4211,  0.1909]], requires_grad=True),\n",
       " tensor([[ 6509.9839,  4384.2407,  3202.7141],\n",
       "         [-3926.9658, -5767.3555, -3261.2700]]))"
      ]
     },
     "execution_count": 31,
     "metadata": {},
     "output_type": "execute_result"
    }
   ],
   "source": [
    "w, w.grad"
   ]
  },
  {
   "cell_type": "code",
   "execution_count": 32,
   "id": "92a3e3c7-2fe3-4915-9b51-c7e75b8a8da2",
   "metadata": {
    "execution": {
     "iopub.execute_input": "2025-01-22T11:51:02.084253Z",
     "iopub.status.busy": "2025-01-22T11:51:02.083662Z",
     "iopub.status.idle": "2025-01-22T11:51:02.091293Z",
     "shell.execute_reply": "2025-01-22T11:51:02.090475Z",
     "shell.execute_reply.started": "2025-01-22T11:51:02.084216Z"
    }
   },
   "outputs": [
    {
     "data": {
      "text/plain": [
       "(tensor([ 0.6120, -0.6747], requires_grad=True), tensor([ 70.4058, -50.6020]))"
      ]
     },
     "execution_count": 32,
     "metadata": {},
     "output_type": "execute_result"
    }
   ],
   "source": [
    "b, b.grad"
   ]
  },
  {
   "cell_type": "markdown",
   "id": "a03b8be0-da9d-4070-bda4-29a00bf09d4e",
   "metadata": {},
   "source": [
    "### Adjust Weights and Biases to Reduce the Loss"
   ]
  },
  {
   "cell_type": "code",
   "execution_count": 33,
   "id": "92dbcead-91f0-4075-a1e5-6887540935a0",
   "metadata": {
    "execution": {
     "iopub.execute_input": "2025-01-22T11:54:57.153570Z",
     "iopub.status.busy": "2025-01-22T11:54:57.152989Z",
     "iopub.status.idle": "2025-01-22T11:54:57.160459Z",
     "shell.execute_reply": "2025-01-22T11:54:57.158999Z",
     "shell.execute_reply.started": "2025-01-22T11:54:57.153531Z"
    }
   },
   "outputs": [],
   "source": [
    "# the use of torch.no_grad() is to indicate PyTorch that we shouldnt track, calculate, or modify gradients while updating the weights and biases\n",
    "with torch.no_grad():\n",
    "    w -= w.grad * 1e-5 # learning rate\n",
    "    b -= b.grad * 1e-5"
   ]
  },
  {
   "cell_type": "code",
   "execution_count": 35,
   "id": "8e4af6cf-f3ca-44e4-b130-496610ebed0e",
   "metadata": {
    "execution": {
     "iopub.execute_input": "2025-01-22T11:56:05.609970Z",
     "iopub.status.busy": "2025-01-22T11:56:05.609272Z",
     "iopub.status.idle": "2025-01-22T11:56:05.619281Z",
     "shell.execute_reply": "2025-01-22T11:56:05.618443Z",
     "shell.execute_reply.started": "2025-01-22T11:56:05.609909Z"
    }
   },
   "outputs": [
    {
     "data": {
      "text/plain": [
       "tensor([[120.9794,  46.0391],\n",
       "        [147.3852,  58.2535],\n",
       "        [119.4435,  36.8265],\n",
       "        [193.9193,  77.8332],\n",
       "        [ 96.3500,  38.1672]], grad_fn=<AddBackward0>)"
      ]
     },
     "execution_count": 35,
     "metadata": {},
     "output_type": "execute_result"
    }
   ],
   "source": [
    "yhat = linear_regression(inputs)\n",
    "yhat"
   ]
  },
  {
   "cell_type": "code",
   "execution_count": 36,
   "id": "c1096831-c51f-4a66-8f45-be57a1b9f63b",
   "metadata": {
    "execution": {
     "iopub.execute_input": "2025-01-22T11:56:11.759797Z",
     "iopub.status.busy": "2025-01-22T11:56:11.759051Z",
     "iopub.status.idle": "2025-01-22T11:56:11.768304Z",
     "shell.execute_reply": "2025-01-22T11:56:11.767706Z",
     "shell.execute_reply.started": "2025-01-22T11:56:11.759737Z"
    }
   },
   "outputs": [
    {
     "data": {
      "text/plain": [
       "tensor(5808.2026, grad_fn=<DivBackward0>)"
      ]
     },
     "execution_count": 36,
     "metadata": {},
     "output_type": "execute_result"
    }
   ],
   "source": [
    "loss = mean_squared_error(yhat, targets)\n",
    "loss"
   ]
  },
  {
   "cell_type": "markdown",
   "id": "8cfb014e-a4e8-4c15-a4e1-42e6defffe04",
   "metadata": {},
   "source": [
    "Before proceeding, reset gradients to zero. Because PyTorch accumulates gradient, otherwise when using the `backward()` function again, the new gradient values are added to existing gradients"
   ]
  },
  {
   "cell_type": "code",
   "execution_count": 37,
   "id": "d42b12ee-da3a-4471-8698-79ba28399ed6",
   "metadata": {
    "execution": {
     "iopub.execute_input": "2025-01-22T11:57:27.514221Z",
     "iopub.status.busy": "2025-01-22T11:57:27.513731Z",
     "iopub.status.idle": "2025-01-22T11:57:27.522152Z",
     "shell.execute_reply": "2025-01-22T11:57:27.521423Z",
     "shell.execute_reply.started": "2025-01-22T11:57:27.514189Z"
    }
   },
   "outputs": [
    {
     "data": {
      "text/plain": [
       "(tensor([[0., 0., 0.],\n",
       "         [0., 0., 0.]]),\n",
       " tensor([0., 0.]))"
      ]
     },
     "execution_count": 37,
     "metadata": {},
     "output_type": "execute_result"
    }
   ],
   "source": [
    "w.grad.zero_()\n",
    "b.grad.zero_()\n",
    "w.grad, b.grad"
   ]
  },
  {
   "cell_type": "markdown",
   "id": "884e928a-442d-4edc-89c7-20ade83d414f",
   "metadata": {},
   "source": [
    "### Train the Model with Gradient Descent"
   ]
  },
  {
   "cell_type": "code",
   "execution_count": null,
   "id": "0ef24a05-a57c-4612-926b-67e02030e3bf",
   "metadata": {},
   "outputs": [],
   "source": []
  }
 ],
 "metadata": {
  "kernelspec": {
   "display_name": "Python 3 (ipykernel)",
   "language": "python",
   "name": "python3"
  },
  "language_info": {
   "codemirror_mode": {
    "name": "ipython",
    "version": 3
   },
   "file_extension": ".py",
   "mimetype": "text/x-python",
   "name": "python",
   "nbconvert_exporter": "python",
   "pygments_lexer": "ipython3",
   "version": "3.11.8"
  }
 },
 "nbformat": 4,
 "nbformat_minor": 5
}
