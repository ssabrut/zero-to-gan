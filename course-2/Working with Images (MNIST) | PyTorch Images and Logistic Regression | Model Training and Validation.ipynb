{
 "cells": [
  {
   "cell_type": "markdown",
   "metadata": {},
   "source": [
    "### Download training dataset"
   ]
  },
  {
   "cell_type": "code",
   "execution_count": 1,
   "metadata": {},
   "outputs": [],
   "source": [
    "from torchvision.datasets import MNIST\n",
    "\n",
    "dataset = MNIST(root='data/', download=True)"
   ]
  },
  {
   "cell_type": "code",
   "execution_count": 2,
   "metadata": {},
   "outputs": [
    {
     "data": {
      "text/plain": [
       "60000"
      ]
     },
     "execution_count": 2,
     "metadata": {},
     "output_type": "execute_result"
    }
   ],
   "source": [
    "len(dataset)"
   ]
  },
  {
   "cell_type": "markdown",
   "metadata": {},
   "source": [
    "### Download test dataset"
   ]
  },
  {
   "cell_type": "code",
   "execution_count": 3,
   "metadata": {},
   "outputs": [
    {
     "data": {
      "text/plain": [
       "10000"
      ]
     },
     "execution_count": 3,
     "metadata": {},
     "output_type": "execute_result"
    }
   ],
   "source": [
    "test_dataset = MNIST(root='data/', train=False)\n",
    "len(test_dataset)"
   ]
  },
  {
   "cell_type": "markdown",
   "metadata": {},
   "source": [
    "View sample in training dataset"
   ]
  },
  {
   "cell_type": "code",
   "execution_count": 4,
   "metadata": {},
   "outputs": [
    {
     "data": {
      "text/plain": [
       "(<PIL.Image.Image image mode=L size=28x28>, 5)"
      ]
     },
     "execution_count": 4,
     "metadata": {},
     "output_type": "execute_result"
    }
   ],
   "source": [
    "dataset[0]"
   ]
  },
  {
   "cell_type": "markdown",
   "metadata": {},
   "source": [
    "Display some of the dataset"
   ]
  },
  {
   "cell_type": "code",
   "execution_count": 5,
   "metadata": {},
   "outputs": [
    {
     "data": {
      "image/png": "[encoded data removed]",
      "text/plain": [
       "<Figure size 640x480 with 1 Axes>"
      ]
     },
     "metadata": {},
     "output_type": "display_data"
    }
   ],
   "source": [
    "from matplotlib import pyplot as plt\n",
    "%matplotlib inline\n",
    "\n",
    "image, label = dataset[0]\n",
    "plt.imshow(image, cmap='gray')\n",
    "plt.title(f'Label: {label}')\n",
    "plt.show()"
   ]
  },
  {
   "cell_type": "code",
   "execution_count": 6,
   "metadata": {},
   "outputs": [
    {
     "data": {
      "image/png": "[encoded data removed]",
      "text/plain": [
       "<Figure size 640x480 with 1 Axes>"
      ]
     },
     "metadata": {},
     "output_type": "display_data"
    }
   ],
   "source": [
    "image, label = dataset[10]\n",
    "plt.imshow(image, cmap='gray')\n",
    "plt.title(f'Label: {label}')\n",
    "plt.show()"
   ]
  },
  {
   "cell_type": "markdown",
   "metadata": {},
   "source": [
    "### Convert image into tensor using `transforms` function"
   ]
  },
  {
   "cell_type": "code",
   "execution_count": 7,
   "metadata": {},
   "outputs": [],
   "source": [
    "import torchvision.transforms as transforms\n",
    "\n",
    "dataset = MNIST(root='data/', train=True, transform=transforms.ToTensor())"
   ]
  },
  {
   "cell_type": "code",
   "execution_count": 8,
   "metadata": {},
   "outputs": [
    {
     "name": "stdout",
     "output_type": "stream",
     "text": [
      "torch.Size([1, 28, 28]) 5\n"
     ]
    }
   ],
   "source": [
    "img_tensor, label = dataset[0]\n",
    "print(img_tensor.shape, label)"
   ]
  },
  {
   "cell_type": "code",
   "execution_count": 9,
   "metadata": {},
   "outputs": [
    {
     "name": "stdout",
     "output_type": "stream",
     "text": [
      "tensor([[0.0039, 0.6039, 0.9922, 0.3529, 0.0000],\n",
      "        [0.0000, 0.5451, 0.9922, 0.7451, 0.0078],\n",
      "        [0.0000, 0.0431, 0.7451, 0.9922, 0.2745],\n",
      "        [0.0000, 0.0000, 0.1373, 0.9451, 0.8824],\n",
      "        [0.0000, 0.0000, 0.0000, 0.3176, 0.9412]])\n",
      "tensor(1.) tensor(0.)\n"
     ]
    }
   ],
   "source": [
    "import torch\n",
    "\n",
    "print(img_tensor[0,10:15,10:15])\n",
    "print(torch.max(img_tensor), torch.min(img_tensor))"
   ]
  },
  {
   "cell_type": "markdown",
   "metadata": {},
   "source": [
    "Display part of the image"
   ]
  },
  {
   "cell_type": "code",
   "execution_count": 10,
   "metadata": {},
   "outputs": [
    {
     "data": {
      "image/png": "[encoded data removed]",
      "text/plain": [
       "<Figure size 640x480 with 1 Axes>"
      ]
     },
     "metadata": {},
     "output_type": "display_data"
    }
   ],
   "source": [
    "plt.imshow(img_tensor[0,10:15,10:15], cmap='gray')\n",
    "plt.show()"
   ]
  },
  {
   "cell_type": "markdown",
   "metadata": {},
   "source": [
    "## Set training, validation and test set"
   ]
  },
  {
   "cell_type": "code",
   "execution_count": 11,
   "metadata": {},
   "outputs": [
    {
     "data": {
      "text/plain": [
       "(50000, 10000, 10000)"
      ]
     },
     "execution_count": 11,
     "metadata": {},
     "output_type": "execute_result"
    }
   ],
   "source": [
    "from torch.utils.data import random_split\n",
    "\n",
    "train_ds, val_ds = random_split(dataset, [50000, 10000])\n",
    "len(train_ds), len(val_ds), len(test_dataset)"
   ]
  },
  {
   "cell_type": "markdown",
   "metadata": {},
   "source": [
    "Create data loader with batch"
   ]
  },
  {
   "cell_type": "code",
   "execution_count": 12,
   "metadata": {},
   "outputs": [],
   "source": [
    "from torch.utils.data import DataLoader\n",
    "\n",
    "batch_size = 128\n",
    "train_loader = DataLoader(train_ds, batch_size, shuffle=True)\n",
    "val_loader = DataLoader(val_ds, batch_size)"
   ]
  },
  {
   "cell_type": "markdown",
   "metadata": {},
   "source": [
    "# Logistic Regression"
   ]
  },
  {
   "cell_type": "markdown",
   "metadata": {},
   "source": [
    "Because the input are image with dimension 28x28, we need to convert into one dimensional array or vector"
   ]
  },
  {
   "cell_type": "code",
   "execution_count": 13,
   "metadata": {},
   "outputs": [],
   "source": [
    "from torch import nn\n",
    "\n",
    "input_size = 28*28\n",
    "num_classes = 10\n",
    "\n",
    "model = nn.Linear(input_size, num_classes)"
   ]
  },
  {
   "cell_type": "code",
   "execution_count": 14,
   "metadata": {},
   "outputs": [
    {
     "name": "stdout",
     "output_type": "stream",
     "text": [
      "torch.Size([10, 784])\n"
     ]
    },
    {
     "data": {
      "text/plain": [
       "Parameter containing:\n",
       "tensor([[ 0.0050, -0.0067, -0.0018,  ...,  0.0217,  0.0040, -0.0174],\n",
       "        [ 0.0285,  0.0351, -0.0336,  ..., -0.0195,  0.0027,  0.0119],\n",
       "        [ 0.0334, -0.0117, -0.0200,  ..., -0.0240, -0.0105, -0.0101],\n",
       "        ...,\n",
       "        [-0.0061,  0.0082,  0.0347,  ..., -0.0324,  0.0050, -0.0128],\n",
       "        [ 0.0342,  0.0183, -0.0047,  ...,  0.0081,  0.0249, -0.0339],\n",
       "        [ 0.0321, -0.0042, -0.0045,  ..., -0.0067,  0.0127,  0.0343]],\n",
       "       requires_grad=True)"
      ]
     },
     "execution_count": 14,
     "metadata": {},
     "output_type": "execute_result"
    }
   ],
   "source": [
    "print(model.weight.shape)\n",
    "model.weight"
   ]
  },
  {
   "cell_type": "code",
   "execution_count": 15,
   "metadata": {},
   "outputs": [
    {
     "name": "stdout",
     "output_type": "stream",
     "text": [
      "torch.Size([10])\n"
     ]
    },
    {
     "data": {
      "text/plain": [
       "Parameter containing:\n",
       "tensor([-0.0067,  0.0153,  0.0348, -0.0280,  0.0016, -0.0298,  0.0017, -0.0025,\n",
       "        -0.0023, -0.0331], requires_grad=True)"
      ]
     },
     "execution_count": 15,
     "metadata": {},
     "output_type": "execute_result"
    }
   ],
   "source": [
    "print(model.bias.shape)\n",
    "model.bias"
   ]
  },
  {
   "cell_type": "code",
   "execution_count": 16,
   "metadata": {},
   "outputs": [
    {
     "name": "stdout",
     "output_type": "stream",
     "text": [
      "tensor([2, 7, 1, 6, 3, 4, 0, 5, 0, 0, 0, 6, 9, 3, 7, 4, 4, 7, 8, 8, 7, 4, 9, 6,\n",
      "        6, 8, 3, 0, 9, 1, 4, 5, 7, 5, 0, 8, 4, 6, 4, 0, 7, 8, 2, 9, 8, 7, 3, 7,\n",
      "        1, 0, 7, 1, 2, 6, 5, 6, 0, 6, 3, 2, 4, 7, 3, 6, 6, 0, 7, 9, 4, 7, 9, 3,\n",
      "        7, 6, 7, 1, 8, 6, 4, 7, 4, 4, 3, 8, 8, 1, 5, 5, 5, 9, 2, 1, 2, 0, 5, 1,\n",
      "        4, 0, 7, 7, 2, 0, 9, 1, 6, 7, 1, 8, 1, 2, 3, 3, 5, 6, 7, 2, 6, 9, 5, 2,\n",
      "        2, 6, 8, 8, 6, 5, 9, 0])\n",
      "torch.Size([128, 1, 28, 28])\n",
      "tensor([[ 0.2735,  0.2463, -0.2334,  ...,  0.1005, -0.3764, -0.2704],\n",
      "        [-0.0281, -0.0970, -0.0224,  ..., -0.1999,  0.0469, -0.2059],\n",
      "        [-0.0663, -0.0024,  0.0062,  ..., -0.2708, -0.2179, -0.0539],\n",
      "        ...,\n",
      "        [-0.1430,  0.1326, -0.1547,  ...,  0.0707, -0.0987, -0.4016],\n",
      "        [ 0.1054,  0.2038, -0.1571,  ...,  0.1960, -0.0065, -0.0839],\n",
      "        [-0.0926,  0.0387, -0.0479,  ...,  0.1837,  0.0389, -0.2196]],\n",
      "       grad_fn=<AddmmBackward0>)\n"
     ]
    }
   ],
   "source": [
    "for images, labels in train_loader:\n",
    "    print(labels)\n",
    "    print(images.shape)\n",
    "    outputs = model(images.reshape(-1, 28*28))\n",
    "    print(outputs)\n",
    "    break"
   ]
  },
  {
   "cell_type": "code",
   "execution_count": 17,
   "metadata": {},
   "outputs": [],
   "source": [
    "class MNISTModel(nn.Module):\n",
    "    def __init__(self, *args, **kwargs):\n",
    "        super().__init__(*args, **kwargs)\n",
    "        self.linear = nn.Linear(input_size, num_classes)\n",
    "\n",
    "    def forward(self, x):\n",
    "        x = x.reshape(-1, 784)\n",
    "        out = self.linear(x)\n",
    "        return out\n",
    "\n",
    "model = MNISTModel()"
   ]
  },
  {
   "cell_type": "code",
   "execution_count": 18,
   "metadata": {},
   "outputs": [
    {
     "data": {
      "text/plain": [
       "[Parameter containing:\n",
       " tensor([[-0.0134, -0.0346,  0.0232,  ...,  0.0026,  0.0042, -0.0245],\n",
       "         [-0.0080, -0.0299,  0.0339,  ..., -0.0307,  0.0248, -0.0132],\n",
       "         [ 0.0113,  0.0256, -0.0124,  ...,  0.0014, -0.0318, -0.0047],\n",
       "         ...,\n",
       "         [ 0.0243, -0.0255,  0.0265,  ...,  0.0352, -0.0135,  0.0301],\n",
       "         [-0.0051, -0.0092, -0.0147,  ...,  0.0209, -0.0320,  0.0152],\n",
       "         [ 0.0319,  0.0229, -0.0315,  ..., -0.0192,  0.0148,  0.0298]],\n",
       "        requires_grad=True),\n",
       " Parameter containing:\n",
       " tensor([ 0.0343, -0.0069, -0.0207,  0.0244,  0.0143, -0.0157, -0.0207,  0.0339,\n",
       "          0.0137, -0.0261], requires_grad=True)]"
      ]
     },
     "execution_count": 18,
     "metadata": {},
     "output_type": "execute_result"
    }
   ],
   "source": [
    "list(model.parameters())"
   ]
  },
  {
   "cell_type": "markdown",
   "metadata": {},
   "source": [
    "### Evaluation metrics and loss function"
   ]
  },
  {
   "cell_type": "code",
   "execution_count": 19,
   "metadata": {},
   "outputs": [
    {
     "name": "stdout",
     "output_type": "stream",
     "text": [
      "Sample probabilities:\n",
      " tensor([[0.1421, 0.1383, 0.0856, 0.0918, 0.0978, 0.0800, 0.0882, 0.1195, 0.0742,\n",
      "         0.0825],\n",
      "        [0.1047, 0.0977, 0.1053, 0.0992, 0.1080, 0.0862, 0.1103, 0.0882, 0.1128,\n",
      "         0.0876]])\n",
      "Sum:  0.9999999403953552\n"
     ]
    }
   ],
   "source": [
    "from torch.nn import functional as F\n",
    "\n",
    "probs = F.softmax(outputs, dim=1)\n",
    "print(\"Sample probabilities:\\n\", probs[:2].data)\n",
    "print(\"Sum: \", torch.sum(probs[0]).item())"
   ]
  },
  {
   "cell_type": "code",
   "execution_count": 20,
   "metadata": {},
   "outputs": [
    {
     "name": "stdout",
     "output_type": "stream",
     "text": [
      "tensor([0, 8, 3, 3, 7, 8, 3, 4, 0, 7, 7, 3, 0, 0, 8, 6, 1, 0, 1, 7, 8, 0, 3, 3,\n",
      "        4, 7, 0, 3, 7, 3, 1, 0, 0, 1, 7, 1, 8, 3, 0, 7, 1, 5, 1, 6, 0, 3, 6, 0,\n",
      "        4, 1, 8, 6, 1, 1, 7, 3, 7, 6, 3, 1, 8, 6, 0, 3, 6, 7, 1, 6, 3, 3, 1, 7,\n",
      "        4, 4, 8, 6, 1, 8, 4, 8, 1, 7, 8, 0, 7, 1, 1, 4, 0, 3, 1, 6, 3, 0, 3, 3,\n",
      "        3, 7, 6, 0, 5, 7, 1, 6, 6, 4, 4, 2, 1, 0, 7, 3, 2, 6, 8, 0, 3, 1, 3, 3,\n",
      "        6, 1, 7, 5, 7, 1, 1, 7])\n",
      "tensor([0.1421, 0.1128, 0.1312, 0.1424, 0.1434, 0.1141, 0.1183, 0.1216, 0.1488,\n",
      "        0.1485, 0.1545, 0.1215, 0.1152, 0.1173, 0.1206, 0.1193, 0.1238, 0.1111,\n",
      "        0.1302, 0.1299, 0.1148, 0.1253, 0.1354, 0.1176, 0.1416, 0.1220, 0.1342,\n",
      "        0.1459, 0.1267, 0.1241, 0.1274, 0.1232, 0.1175, 0.1258, 0.1730, 0.1210,\n",
      "        0.1333, 0.1311, 0.1181, 0.1548, 0.1238, 0.1322, 0.1367, 0.1237, 0.1230,\n",
      "        0.1156, 0.1180, 0.1221, 0.1237, 0.1293, 0.1171, 0.1175, 0.1467, 0.1443,\n",
      "        0.1224, 0.1489, 0.1311, 0.1361, 0.1293, 0.1255, 0.1160, 0.1296, 0.1315,\n",
      "        0.1239, 0.1185, 0.1449, 0.1328, 0.1214, 0.1193, 0.1309, 0.1281, 0.1362,\n",
      "        0.1251, 0.1409, 0.1271, 0.1162, 0.1177, 0.1235, 0.1116, 0.1180, 0.1265,\n",
      "        0.1131, 0.1103, 0.1337, 0.1468, 0.1140, 0.1250, 0.1318, 0.1396, 0.1159,\n",
      "        0.1284, 0.1170, 0.1532, 0.1375, 0.1233, 0.1114, 0.1184, 0.1361, 0.1131,\n",
      "        0.1173, 0.1068, 0.1347, 0.1152, 0.1199, 0.1121, 0.1279, 0.1195, 0.1179,\n",
      "        0.1299, 0.1256, 0.1242, 0.1196, 0.1239, 0.1261, 0.1197, 0.1254, 0.1375,\n",
      "        0.1395, 0.1139, 0.1216, 0.1321, 0.1170, 0.1678, 0.1123, 0.1145, 0.1267,\n",
      "        0.1295, 0.1295], grad_fn=<MaxBackward0>)\n"
     ]
    }
   ],
   "source": [
    "import torch\n",
    "\n",
    "max_probs, preds = torch.max(probs, dim=1)\n",
    "print(preds)\n",
    "print(max_probs)"
   ]
  },
  {
   "cell_type": "code",
   "execution_count": 21,
   "metadata": {},
   "outputs": [],
   "source": [
    "def accuracy(y_pred, y_true):\n",
    "    _, preds = torch.max(y_pred, dim=1)\n",
    "    return torch.tensor(torch.sum(preds == y_true).item() / len(preds))"
   ]
  },
  {
   "cell_type": "code",
   "execution_count": 22,
   "metadata": {},
   "outputs": [
    {
     "data": {
      "text/plain": [
       "tensor(0.0859)"
      ]
     },
     "execution_count": 22,
     "metadata": {},
     "output_type": "execute_result"
    }
   ],
   "source": [
    "accuracy(outputs, labels)"
   ]
  },
  {
   "cell_type": "code",
   "execution_count": 23,
   "metadata": {},
   "outputs": [
    {
     "name": "stdout",
     "output_type": "stream",
     "text": [
      "tensor(2.3012, grad_fn=<NllLossBackward0>)\n"
     ]
    }
   ],
   "source": [
    "loss_fn = F.cross_entropy\n",
    "loss = loss_fn(outputs, labels)\n",
    "print(loss)"
   ]
  },
  {
   "cell_type": "markdown",
   "metadata": {},
   "source": [
    "# Training loop"
   ]
  },
  {
   "cell_type": "code",
   "execution_count": 24,
   "metadata": {},
   "outputs": [],
   "source": [
    "def fit(epochs, lr, model, train_loader, val_loader, opt_func=torch.optim.SGD):\n",
    "    optimizer = opt_func(model.parameters(), lr)\n",
    "    history = []\n",
    "\n",
    "    for epoch in range(epochs):\n",
    "        for batch in train_loader:\n",
    "            # Calculate loss\n",
    "            loss = model.training_step(batch)\n",
    "\n",
    "            # Compute gradients\n",
    "            loss.backward()\n",
    "\n",
    "            # Update weights\n",
    "            optimizer.step()\n",
    "\n",
    "            # Reset gradients\n",
    "            optimizer.zero_grad()\n",
    "\n",
    "        result = evaluate(model, val_loader)\n",
    "        model.epoch_end(epoch, result)\n",
    "        history.append(result)\n",
    "    return history\n",
    "\n",
    "def evaluate(model, val_loader):\n",
    "    outputs = [model.validation_step(batch) for batch in val_loader]\n",
    "    return model.validation_epoch_end(outputs)"
   ]
  },
  {
   "cell_type": "code",
   "execution_count": 25,
   "metadata": {},
   "outputs": [],
   "source": [
    "class MNISTModel(nn.Module):\n",
    "    def __init__(self, *args, **kwargs):\n",
    "        super().__init__(*args, **kwargs)\n",
    "        self.linear = nn.Linear(input_size, num_classes)\n",
    "\n",
    "    def forward(self, x):\n",
    "        x = x.reshape(-1, 784)\n",
    "        out = self.linear(x)\n",
    "        return out\n",
    "\n",
    "    def training_step(self, batch):\n",
    "        images, labels = batch\n",
    "        out = self(images)\n",
    "        loss = F.cross_entropy(out, labels)\n",
    "        return loss\n",
    "\n",
    "    def validation_step(self, batch):\n",
    "        images, labels = batch\n",
    "        out = self(images)\n",
    "        loss = F.cross_entropy(out, labels)\n",
    "        acc = accuracy(out, labels)\n",
    "        return {'val_loss': loss, 'val_acc': acc}\n",
    "\n",
    "    def validation_epoch_end(self, outputs):\n",
    "        batch_losses = [x['val_loss'] for x in outputs]\n",
    "        epoch_loss = torch.stack(batch_losses).mean()\n",
    "        batch_accs = [x['val_acc'] for x in outputs]\n",
    "        epoch_acc = torch.stack(batch_accs).mean()\n",
    "        return {'val_loss': epoch_loss.item(), 'val_acc': epoch_acc.item()}\n",
    "\n",
    "    def epoch_end(self, epoch, result):\n",
    "        print(\"Epoch [{}], val_loss: {:.4f}, val_acc: {:.4f}\".format(epoch + 1, result['val_loss'], result['val_acc']))\n",
    "\n",
    "model = MNISTModel()"
   ]
  },
  {
   "cell_type": "code",
   "execution_count": 26,
   "metadata": {},
   "outputs": [
    {
     "data": {
      "text/plain": [
       "{'val_loss': 2.3459019660949707, 'val_acc': 0.05804984271526337}"
      ]
     },
     "execution_count": 26,
     "metadata": {},
     "output_type": "execute_result"
    }
   ],
   "source": [
    "result = evaluate(model, val_loader)\n",
    "result"
   ]
  },
  {
   "cell_type": "code",
   "execution_count": 27,
   "metadata": {},
   "outputs": [
    {
     "name": "stdout",
     "output_type": "stream",
     "text": [
      "Epoch [1], val_loss: 1.9760, val_acc: 0.5762\n",
      "Epoch [2], val_loss: 1.7038, val_acc: 0.6849\n",
      "Epoch [3], val_loss: 1.4997, val_acc: 0.7368\n",
      "Epoch [4], val_loss: 1.3450, val_acc: 0.7651\n",
      "Epoch [5], val_loss: 1.2258, val_acc: 0.7838\n"
     ]
    },
    {
     "data": {
      "text/plain": [
       "[{'val_loss': 1.9760212898254395, 'val_acc': 0.5762460231781006},\n",
       " {'val_loss': 1.7037664651870728, 'val_acc': 0.6849287748336792},\n",
       " {'val_loss': 1.4996790885925293, 'val_acc': 0.7368472814559937},\n",
       " {'val_loss': 1.3450490236282349, 'val_acc': 0.7651305198669434},\n",
       " {'val_loss': 1.2258471250534058, 'val_acc': 0.7838212251663208}]"
      ]
     },
     "execution_count": 27,
     "metadata": {},
     "output_type": "execute_result"
    }
   ],
   "source": [
    "history = fit(25, 1e-3, model, train_loader, val_loader)\n",
    "history"
   ]
  },
  {
   "cell_type": "code",
   "execution_count": null,
   "metadata": {},
   "outputs": [],
   "source": []
  }
 ],
 "metadata": {
  "kernelspec": {
   "display_name": "sandbox",
   "language": "python",
   "name": "python3"
  },
  "language_info": {
   "codemirror_mode": {
    "name": "ipython",
    "version": 3
   },
   "file_extension": ".py",
   "mimetype": "text/x-python",
   "name": "python",
   "nbconvert_exporter": "python",
   "pygments_lexer": "ipython3",
   "version": "3.11.8"
  }
 },
 "nbformat": 4,
 "nbformat_minor": 2
}
