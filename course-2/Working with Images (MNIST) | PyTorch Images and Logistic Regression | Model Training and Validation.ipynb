{
 "cells": [
  {
   "cell_type": "markdown",
   "metadata": {},
   "source": [
    "### Download training dataset"
   ]
  },
  {
   "cell_type": "code",
   "execution_count": 1,
   "metadata": {},
   "outputs": [],
   "source": [
    "from torchvision.datasets import MNIST\n",
    "\n",
    "dataset = MNIST(root='data/', download=True)"
   ]
  },
  {
   "cell_type": "code",
   "execution_count": 2,
   "metadata": {},
   "outputs": [
    {
     "data": {
      "text/plain": [
       "60000"
      ]
     },
     "execution_count": 2,
     "metadata": {},
     "output_type": "execute_result"
    }
   ],
   "source": [
    "len(dataset)"
   ]
  },
  {
   "cell_type": "markdown",
   "metadata": {},
   "source": [
    "### Download test dataset"
   ]
  },
  {
   "cell_type": "code",
   "execution_count": 3,
   "metadata": {},
   "outputs": [
    {
     "data": {
      "text/plain": [
       "10000"
      ]
     },
     "execution_count": 3,
     "metadata": {},
     "output_type": "execute_result"
    }
   ],
   "source": [
    "test_dataset = MNIST(root='data/', train=False)\n",
    "len(test_dataset)"
   ]
  },
  {
   "cell_type": "markdown",
   "metadata": {},
   "source": [
    "View sample in training dataset"
   ]
  },
  {
   "cell_type": "code",
   "execution_count": 4,
   "metadata": {},
   "outputs": [
    {
     "data": {
      "text/plain": [
       "(<PIL.Image.Image image mode=L size=28x28>, 5)"
      ]
     },
     "execution_count": 4,
     "metadata": {},
     "output_type": "execute_result"
    }
   ],
   "source": [
    "dataset[0]"
   ]
  },
  {
   "cell_type": "markdown",
   "metadata": {},
   "source": [
    "Display some of the dataset"
   ]
  },
  {
   "cell_type": "code",
   "execution_count": 5,
   "metadata": {},
   "outputs": [
    {
     "data": {
      "image/png": "[encoded data removed]",
      "text/plain": [
       "<Figure size 640x480 with 1 Axes>"
      ]
     },
     "metadata": {},
     "output_type": "display_data"
    }
   ],
   "source": [
    "from matplotlib import pyplot as plt\n",
    "%matplotlib inline\n",
    "\n",
    "image, label = dataset[0]\n",
    "plt.imshow(image, cmap='gray')\n",
    "plt.title(f'Label: {label}')\n",
    "plt.show()"
   ]
  },
  {
   "cell_type": "code",
   "execution_count": 6,
   "metadata": {},
   "outputs": [
    {
     "data": {
      "image/png": "[encoded data removed]",
      "text/plain": [
       "<Figure size 640x480 with 1 Axes>"
      ]
     },
     "metadata": {},
     "output_type": "display_data"
    }
   ],
   "source": [
    "image, label = dataset[10]\n",
    "plt.imshow(image, cmap='gray')\n",
    "plt.title(f'Label: {label}')\n",
    "plt.show()"
   ]
  },
  {
   "cell_type": "markdown",
   "metadata": {},
   "source": [
    "### Convert image into tensor using `transforms` function"
   ]
  },
  {
   "cell_type": "code",
   "execution_count": 7,
   "metadata": {},
   "outputs": [],
   "source": [
    "import torchvision.transforms as transforms\n",
    "\n",
    "dataset = MNIST(root='data/', train=True, transform=transforms.ToTensor())"
   ]
  },
  {
   "cell_type": "code",
   "execution_count": 8,
   "metadata": {},
   "outputs": [
    {
     "name": "stdout",
     "output_type": "stream",
     "text": [
      "torch.Size([1, 28, 28]) 5\n"
     ]
    }
   ],
   "source": [
    "img_tensor, label = dataset[0]\n",
    "print(img_tensor.shape, label)"
   ]
  },
  {
   "cell_type": "code",
   "execution_count": 9,
   "metadata": {},
   "outputs": [
    {
     "name": "stdout",
     "output_type": "stream",
     "text": [
      "tensor([[0.0039, 0.6039, 0.9922, 0.3529, 0.0000],\n",
      "        [0.0000, 0.5451, 0.9922, 0.7451, 0.0078],\n",
      "        [0.0000, 0.0431, 0.7451, 0.9922, 0.2745],\n",
      "        [0.0000, 0.0000, 0.1373, 0.9451, 0.8824],\n",
      "        [0.0000, 0.0000, 0.0000, 0.3176, 0.9412]])\n",
      "tensor(1.) tensor(0.)\n"
     ]
    }
   ],
   "source": [
    "import torch\n",
    "\n",
    "print(img_tensor[0,10:15,10:15])\n",
    "print(torch.max(img_tensor), torch.min(img_tensor))"
   ]
  },
  {
   "cell_type": "markdown",
   "metadata": {},
   "source": [
    "Display part of the image"
   ]
  },
  {
   "cell_type": "code",
   "execution_count": 10,
   "metadata": {},
   "outputs": [
    {
     "data": {
      "image/png": "[encoded data removed]",
      "text/plain": [
       "<Figure size 640x480 with 1 Axes>"
      ]
     },
     "metadata": {},
     "output_type": "display_data"
    }
   ],
   "source": [
    "plt.imshow(img_tensor[0,10:15,10:15], cmap='gray')\n",
    "plt.show()"
   ]
  },
  {
   "cell_type": "markdown",
   "metadata": {},
   "source": [
    "## Set training, validation and test set"
   ]
  },
  {
   "cell_type": "code",
   "execution_count": 11,
   "metadata": {},
   "outputs": [
    {
     "data": {
      "text/plain": [
       "(50000, 10000, 10000)"
      ]
     },
     "execution_count": 11,
     "metadata": {},
     "output_type": "execute_result"
    }
   ],
   "source": [
    "from torch.utils.data import random_split\n",
    "\n",
    "train_ds, val_ds = random_split(dataset, [50000, 10000])\n",
    "len(train_ds), len(val_ds), len(test_dataset)"
   ]
  },
  {
   "cell_type": "markdown",
   "metadata": {},
   "source": [
    "Create data loader with batch"
   ]
  },
  {
   "cell_type": "code",
   "execution_count": 12,
   "metadata": {},
   "outputs": [],
   "source": [
    "from torch.utils.data import DataLoader\n",
    "\n",
    "batch_size = 128\n",
    "train_loader = DataLoader(train_ds, batch_size, shuffle=True)\n",
    "val_loader = DataLoader(val_ds, batch_size)"
   ]
  },
  {
   "cell_type": "markdown",
   "metadata": {},
   "source": [
    "# Logistic Regression"
   ]
  },
  {
   "cell_type": "markdown",
   "metadata": {},
   "source": [
    "Because the input are image with dimension 28x28, we need to convert into one dimensional array or vector"
   ]
  },
  {
   "cell_type": "code",
   "execution_count": 13,
   "metadata": {},
   "outputs": [],
   "source": [
    "from torch import nn\n",
    "\n",
    "input_size = 28*28\n",
    "num_classes = 10\n",
    "\n",
    "model = nn.Linear(input_size, num_classes)"
   ]
  },
  {
   "cell_type": "code",
   "execution_count": 14,
   "metadata": {},
   "outputs": [
    {
     "name": "stdout",
     "output_type": "stream",
     "text": [
      "torch.Size([10, 784])\n"
     ]
    },
    {
     "data": {
      "text/plain": [
       "Parameter containing:\n",
       "tensor([[-0.0217, -0.0117, -0.0296,  ...,  0.0243, -0.0355, -0.0110],\n",
       "        [ 0.0186, -0.0100, -0.0120,  ..., -0.0061, -0.0288, -0.0143],\n",
       "        [ 0.0072, -0.0012, -0.0034,  ..., -0.0009, -0.0166, -0.0333],\n",
       "        ...,\n",
       "        [ 0.0280,  0.0051, -0.0201,  ...,  0.0165,  0.0143,  0.0049],\n",
       "        [ 0.0111,  0.0147, -0.0135,  ...,  0.0179, -0.0008,  0.0181],\n",
       "        [ 0.0287, -0.0106, -0.0260,  ..., -0.0086, -0.0257, -0.0312]],\n",
       "       requires_grad=True)"
      ]
     },
     "execution_count": 14,
     "metadata": {},
     "output_type": "execute_result"
    }
   ],
   "source": [
    "print(model.weight.shape)\n",
    "model.weight"
   ]
  },
  {
   "cell_type": "code",
   "execution_count": 15,
   "metadata": {},
   "outputs": [
    {
     "name": "stdout",
     "output_type": "stream",
     "text": [
      "torch.Size([10])\n"
     ]
    },
    {
     "data": {
      "text/plain": [
       "Parameter containing:\n",
       "tensor([-0.0041,  0.0316, -0.0078,  0.0030,  0.0322,  0.0159,  0.0343,  0.0052,\n",
       "        -0.0287, -0.0233], requires_grad=True)"
      ]
     },
     "execution_count": 15,
     "metadata": {},
     "output_type": "execute_result"
    }
   ],
   "source": [
    "print(model.bias.shape)\n",
    "model.bias"
   ]
  },
  {
   "cell_type": "code",
   "execution_count": 16,
   "metadata": {},
   "outputs": [
    {
     "name": "stdout",
     "output_type": "stream",
     "text": [
      "tensor([7, 0, 1, 3, 9, 4, 0, 5, 6, 9, 4, 2, 5, 6, 3, 1, 9, 7, 3, 8, 4, 8, 8, 4,\n",
      "        3, 5, 1, 8, 8, 7, 8, 1, 9, 3, 6, 1, 2, 9, 8, 2, 8, 3, 0, 0, 6, 2, 3, 5,\n",
      "        0, 4, 2, 5, 5, 3, 1, 8, 3, 2, 8, 6, 0, 4, 3, 8, 8, 2, 0, 1, 8, 2, 8, 0,\n",
      "        0, 0, 0, 1, 3, 4, 1, 3, 3, 5, 7, 7, 9, 7, 4, 6, 1, 8, 2, 0, 8, 6, 8, 8,\n",
      "        4, 6, 0, 6, 9, 3, 6, 9, 6, 9, 6, 3, 1, 6, 1, 8, 2, 7, 3, 9, 9, 3, 0, 0,\n",
      "        0, 9, 0, 8, 2, 6, 5, 2])\n",
      "torch.Size([128, 1, 28, 28])\n",
      "tensor([[ 1.7332e-01, -1.3061e-01,  1.2095e-01,  ...,  1.4012e-01,\n",
      "         -2.5444e-01, -1.0433e-01],\n",
      "        [ 2.0166e-01, -3.0506e-01,  3.1968e-01,  ...,  1.3995e-01,\n",
      "         -1.3702e-01, -2.1817e-01],\n",
      "        [-7.8554e-02, -1.2321e-02,  8.8189e-02,  ..., -2.9982e-02,\n",
      "         -3.0383e-01,  5.0387e-02],\n",
      "        ...,\n",
      "        [ 2.3896e-01,  1.5916e-01,  1.3530e-01,  ..., -1.0271e-01,\n",
      "         -1.8020e-01, -1.4371e-01],\n",
      "        [-9.1573e-02, -1.6938e-04,  1.4006e-01,  ..., -2.4375e-02,\n",
      "         -1.9331e-02,  8.0266e-02],\n",
      "        [-1.3530e-03, -3.4677e-02,  1.6848e-01,  ...,  1.9589e-01,\n",
      "         -2.2791e-01, -1.9014e-01]], grad_fn=<AddmmBackward0>)\n"
     ]
    }
   ],
   "source": [
    "for images, labels in train_loader:\n",
    "    print(labels)\n",
    "    print(images.shape)\n",
    "    outputs = model(images.reshape(-1, 28*28))\n",
    "    print(outputs)\n",
    "    break"
   ]
  },
  {
   "cell_type": "code",
   "execution_count": 17,
   "metadata": {},
   "outputs": [],
   "source": [
    "class MNISTModel(nn.Module):\n",
    "    def __init__(self, *args, **kwargs):\n",
    "        super().__init__(*args, **kwargs)\n",
    "        self.linear = nn.Linear(input_size, num_classes)\n",
    "\n",
    "    def forward(self, x):\n",
    "        x = x.reshape(-1, 784)\n",
    "        out = self.linear(x)\n",
    "        return out\n",
    "\n",
    "model = MNISTModel()"
   ]
  },
  {
   "cell_type": "code",
   "execution_count": 18,
   "metadata": {},
   "outputs": [
    {
     "data": {
      "text/plain": [
       "[Parameter containing:\n",
       " tensor([[ 0.0317, -0.0227, -0.0050,  ..., -0.0221,  0.0014, -0.0089],\n",
       "         [ 0.0336,  0.0290,  0.0042,  ..., -0.0220, -0.0127,  0.0026],\n",
       "         [-0.0174,  0.0263,  0.0192,  ..., -0.0295,  0.0309, -0.0328],\n",
       "         ...,\n",
       "         [ 0.0315, -0.0217,  0.0326,  ...,  0.0339, -0.0168,  0.0184],\n",
       "         [-0.0117,  0.0016,  0.0284,  ..., -0.0007, -0.0061, -0.0059],\n",
       "         [-0.0267, -0.0239, -0.0294,  ...,  0.0333, -0.0156,  0.0238]],\n",
       "        requires_grad=True),\n",
       " Parameter containing:\n",
       " tensor([ 0.0264,  0.0073,  0.0108,  0.0245, -0.0042,  0.0181, -0.0060,  0.0022,\n",
       "         -0.0011,  0.0094], requires_grad=True)]"
      ]
     },
     "execution_count": 18,
     "metadata": {},
     "output_type": "execute_result"
    }
   ],
   "source": [
    "list(model.parameters())"
   ]
  },
  {
   "cell_type": "markdown",
   "metadata": {},
   "source": [
    "### Evaluation metrics and loss function"
   ]
  },
  {
   "cell_type": "code",
   "execution_count": 19,
   "metadata": {},
   "outputs": [
    {
     "name": "stdout",
     "output_type": "stream",
     "text": [
      "Sample probabilities:\n",
      " tensor([[0.1166, 0.0860, 0.1106, 0.0994, 0.0916, 0.1047, 0.1139, 0.1128, 0.0760,\n",
      "         0.0883],\n",
      "        [0.1309, 0.0789, 0.1474, 0.0793, 0.0810, 0.0922, 0.0878, 0.1231, 0.0933,\n",
      "         0.0861]])\n",
      "Sum:  1.0\n"
     ]
    }
   ],
   "source": [
    "from torch.nn import functional as F\n",
    "\n",
    "probs = F.softmax(outputs, dim=1)\n",
    "print(\"Sample probabilities:\\n\", probs[:2].data)\n",
    "print(\"Sum: \", torch.sum(probs[0]).item())"
   ]
  },
  {
   "cell_type": "code",
   "execution_count": 20,
   "metadata": {},
   "outputs": [
    {
     "name": "stdout",
     "output_type": "stream",
     "text": [
      "tensor([0, 2, 6, 2, 0, 9, 2, 0, 0, 3, 3, 5, 0, 0, 7, 1, 2, 0, 6, 0, 0, 5, 2, 3,\n",
      "        0, 7, 1, 6, 6, 6, 6, 6, 3, 2, 0, 5, 5, 0, 6, 4, 0, 5, 5, 0, 2, 5, 7, 7,\n",
      "        2, 4, 2, 0, 2, 7, 0, 5, 2, 7, 0, 2, 2, 2, 2, 2, 5, 4, 2, 6, 2, 4, 0, 5,\n",
      "        7, 2, 5, 5, 2, 0, 6, 6, 2, 0, 0, 2, 2, 0, 3, 5, 6, 6, 0, 2, 0, 5, 5, 1,\n",
      "        0, 2, 5, 1, 0, 7, 0, 3, 4, 2, 2, 0, 6, 2, 5, 9, 2, 0, 0, 0, 0, 2, 2, 2,\n",
      "        7, 0, 2, 7, 4, 0, 5, 7])\n",
      "tensor([0.1166, 0.1474, 0.1388, 0.1831, 0.1531, 0.1410, 0.1312, 0.1271, 0.1280,\n",
      "        0.1175, 0.1314, 0.1224, 0.1238, 0.1357, 0.1392, 0.1126, 0.1457, 0.1149,\n",
      "        0.1743, 0.1307, 0.1257, 0.1353, 0.1325, 0.1323, 0.1285, 0.1338, 0.1120,\n",
      "        0.1347, 0.1399, 0.1357, 0.1412, 0.1211, 0.1278, 0.1364, 0.1382, 0.1127,\n",
      "        0.1231, 0.1446, 0.1297, 0.1392, 0.1234, 0.1328, 0.1224, 0.1259, 0.1404,\n",
      "        0.1360, 0.1378, 0.1340, 0.1661, 0.1354, 0.1711, 0.1482, 0.1579, 0.1280,\n",
      "        0.1152, 0.1273, 0.1478, 0.1359, 0.1438, 0.1450, 0.1530, 0.1141, 0.1264,\n",
      "        0.1386, 0.1395, 0.1265, 0.1181, 0.1204, 0.1309, 0.1466, 0.1301, 0.1341,\n",
      "        0.1509, 0.1255, 0.1344, 0.1138, 0.1443, 0.1336, 0.1199, 0.1441, 0.1530,\n",
      "        0.1409, 0.1186, 0.1271, 0.1289, 0.1373, 0.1298, 0.1134, 0.1147, 0.1342,\n",
      "        0.1354, 0.1433, 0.1170, 0.1179, 0.1196, 0.1185, 0.1530, 0.1289, 0.1272,\n",
      "        0.1442, 0.1394, 0.1293, 0.1253, 0.1369, 0.1156, 0.1260, 0.1271, 0.1179,\n",
      "        0.1207, 0.1688, 0.1112, 0.1220, 0.1423, 0.1257, 0.1452, 0.1219, 0.1472,\n",
      "        0.1579, 0.1523, 0.1457, 0.1497, 0.1339, 0.1609, 0.1345, 0.1329, 0.1291,\n",
      "        0.1412, 0.1225], grad_fn=<MaxBackward0>)\n"
     ]
    }
   ],
   "source": [
    "import torch\n",
    "\n",
    "max_probs, preds = torch.max(probs, dim=1)\n",
    "print(preds)\n",
    "print(max_probs)"
   ]
  },
  {
   "cell_type": "code",
   "execution_count": 21,
   "metadata": {},
   "outputs": [],
   "source": [
    "def accuracy(y_pred, y_true):\n",
    "    _, preds = torch.max(y_pred, dim=1)\n",
    "    return torch.tensor(torch.sum(preds == y_true).item() / len(preds))"
   ]
  },
  {
   "cell_type": "code",
   "execution_count": 22,
   "metadata": {},
   "outputs": [
    {
     "data": {
      "text/plain": [
       "tensor(0.0547)"
      ]
     },
     "execution_count": 22,
     "metadata": {},
     "output_type": "execute_result"
    }
   ],
   "source": [
    "accuracy(outputs, labels)"
   ]
  },
  {
   "cell_type": "code",
   "execution_count": 23,
   "metadata": {},
   "outputs": [
    {
     "name": "stdout",
     "output_type": "stream",
     "text": [
      "tensor(2.3375, grad_fn=<NllLossBackward0>)\n"
     ]
    }
   ],
   "source": [
    "loss_fn = F.cross_entropy\n",
    "loss = loss_fn(outputs, labels)\n",
    "print(loss)"
   ]
  },
  {
   "cell_type": "markdown",
   "metadata": {},
   "source": [
    "# Training loop"
   ]
  },
  {
   "cell_type": "code",
   "execution_count": 24,
   "metadata": {},
   "outputs": [],
   "source": [
    "def fit(epochs, lr, model, train_loader, val_loader, opt_func=torch.optim.SGD):\n",
    "    optimizer = opt_func(model.parameters(), lr)\n",
    "    history = []\n",
    "\n",
    "    for epoch in range(epochs):\n",
    "        for batch in train_loader:\n",
    "            # Calculate loss\n",
    "            loss = model.training_step(batch)\n",
    "\n",
    "            # Compute gradients\n",
    "            loss.backward()\n",
    "\n",
    "            # Update weights\n",
    "            optimizer.step()\n",
    "\n",
    "            # Reset gradients\n",
    "            optimizer.zero_grad()\n",
    "\n",
    "        result = evaluate(model, val_loader)\n",
    "        model.epoch_end(epoch, result)\n",
    "        history.append(result)\n",
    "    return history\n",
    "\n",
    "def evaluate(model, val_loader):\n",
    "    outputs = [model.validation_step(batch) for batch in val_loader]\n",
    "    return model.validation_epoch_end(outputs)"
   ]
  },
  {
   "cell_type": "code",
   "execution_count": 25,
   "metadata": {},
   "outputs": [],
   "source": [
    "class MNISTModel(nn.Module):\n",
    "    def __init__(self, *args, **kwargs):\n",
    "        super().__init__(*args, **kwargs)\n",
    "        self.linear = nn.Linear(input_size, num_classes)\n",
    "\n",
    "    def forward(self, x):\n",
    "        x = x.reshape(-1, 784)\n",
    "        out = self.linear(x)\n",
    "        return out\n",
    "\n",
    "    def training_step(self, batch):\n",
    "        images, labels = batch\n",
    "        out = self(images)\n",
    "        loss = F.cross_entropy(out, labels)\n",
    "        return loss\n",
    "\n",
    "    def validation_step(self, batch):\n",
    "        images, labels = batch\n",
    "        out = self(images)\n",
    "        loss = F.cross_entropy(out, labels)\n",
    "        acc = accuracy(out, labels)\n",
    "        return {'val_loss': loss, 'val_acc': acc}\n",
    "\n",
    "    def validation_epoch_end(self, outputs):\n",
    "        batch_losses = [x['val_loss'] for x in outputs]\n",
    "        epoch_loss = torch.stack(batch_losses).mean()\n",
    "        batch_accs = [x['val_acc'] for x in outputs]\n",
    "        epoch_acc = torch.stack(batch_accs).mean()\n",
    "        return {'val_loss': epoch_loss.item(), 'val_acc': epoch_acc.item()}\n",
    "\n",
    "    def epoch_end(self, epoch, result):\n",
    "        print(\"Epoch [{}], val_loss: {:.4f}, val_acc: {:.4f}\".format(epoch + 1, result['val_loss'], result['val_acc']))\n",
    "\n",
    "model = MNISTModel()"
   ]
  },
  {
   "cell_type": "code",
   "execution_count": 26,
   "metadata": {},
   "outputs": [
    {
     "data": {
      "text/plain": [
       "{'val_loss': 2.3187780380249023, 'val_acc': 0.10561709105968475}"
      ]
     },
     "execution_count": 26,
     "metadata": {},
     "output_type": "execute_result"
    }
   ],
   "source": [
    "result = evaluate(model, val_loader)\n",
    "result"
   ]
  },
  {
   "cell_type": "code",
   "execution_count": 27,
   "metadata": {},
   "outputs": [
    {
     "name": "stdout",
     "output_type": "stream",
     "text": [
      "Epoch [1], val_loss: 1.9468, val_acc: 0.6301\n",
      "Epoch [2], val_loss: 1.6771, val_acc: 0.7206\n",
      "Epoch [3], val_loss: 1.4759, val_acc: 0.7561\n",
      "Epoch [4], val_loss: 1.3240, val_acc: 0.7790\n",
      "Epoch [5], val_loss: 1.2073, val_acc: 0.7947\n",
      "Epoch [6], val_loss: 1.1156, val_acc: 0.8053\n",
      "Epoch [7], val_loss: 1.0420, val_acc: 0.8132\n",
      "Epoch [8], val_loss: 0.9818, val_acc: 0.8195\n",
      "Epoch [9], val_loss: 0.9317, val_acc: 0.8243\n",
      "Epoch [10], val_loss: 0.8893, val_acc: 0.8289\n",
      "Epoch [11], val_loss: 0.8531, val_acc: 0.8326\n",
      "Epoch [12], val_loss: 0.8217, val_acc: 0.8356\n",
      "Epoch [13], val_loss: 0.7942, val_acc: 0.8382\n",
      "Epoch [14], val_loss: 0.7699, val_acc: 0.8408\n",
      "Epoch [15], val_loss: 0.7483, val_acc: 0.8430\n",
      "Epoch [16], val_loss: 0.7290, val_acc: 0.8455\n",
      "Epoch [17], val_loss: 0.7115, val_acc: 0.8474\n",
      "Epoch [18], val_loss: 0.6956, val_acc: 0.8486\n",
      "Epoch [19], val_loss: 0.6811, val_acc: 0.8515\n",
      "Epoch [20], val_loss: 0.6679, val_acc: 0.8527\n",
      "Epoch [21], val_loss: 0.6557, val_acc: 0.8534\n",
      "Epoch [22], val_loss: 0.6444, val_acc: 0.8548\n",
      "Epoch [23], val_loss: 0.6340, val_acc: 0.8561\n",
      "Epoch [24], val_loss: 0.6243, val_acc: 0.8572\n",
      "Epoch [25], val_loss: 0.6152, val_acc: 0.8583\n"
     ]
    },
    {
     "data": {
      "text/plain": [
       "[{'val_loss': 1.9468122720718384, 'val_acc': 0.6301423907279968},\n",
       " {'val_loss': 1.6771354675292969, 'val_acc': 0.7206289768218994},\n",
       " {'val_loss': 1.4758659601211548, 'val_acc': 0.7561313509941101},\n",
       " {'val_loss': 1.3240289688110352, 'val_acc': 0.7789754867553711},\n",
       " {'val_loss': 1.2073110342025757, 'val_acc': 0.7946993708610535},\n",
       " {'val_loss': 1.1155749559402466, 'val_acc': 0.805280864238739},\n",
       " {'val_loss': 1.0420453548431396, 'val_acc': 0.8131922483444214},\n",
       " {'val_loss': 0.9818224310874939, 'val_acc': 0.8195213675498962},\n",
       " {'val_loss': 0.9316773414611816, 'val_acc': 0.8242682218551636},\n",
       " {'val_loss': 0.8893302083015442, 'val_acc': 0.8289161324501038},\n",
       " {'val_loss': 0.8530747890472412, 'val_acc': 0.8325751423835754},\n",
       " {'val_loss': 0.8216730356216431, 'val_acc': 0.8356408476829529},\n",
       " {'val_loss': 0.794192373752594, 'val_acc': 0.8382120132446289},\n",
       " {'val_loss': 0.7699238061904907, 'val_acc': 0.8407832384109497},\n",
       " {'val_loss': 0.7483288049697876, 'val_acc': 0.8429588675498962},\n",
       " {'val_loss': 0.7289500832557678, 'val_acc': 0.845530092716217},\n",
       " {'val_loss': 0.7114630937576294, 'val_acc': 0.8474090099334717},\n",
       " {'val_loss': 0.6955658793449402, 'val_acc': 0.8485957384109497},\n",
       " {'val_loss': 0.6811457872390747, 'val_acc': 0.8514636158943176},\n",
       " {'val_loss': 0.667900025844574, 'val_acc': 0.8526503443717957},\n",
       " {'val_loss': 0.6556816697120667, 'val_acc': 0.8534414768218994},\n",
       " {'val_loss': 0.6444324254989624, 'val_acc': 0.8548259735107422},\n",
       " {'val_loss': 0.6339800953865051, 'val_acc': 0.8561115264892578},\n",
       " {'val_loss': 0.6242778301239014, 'val_acc': 0.8571993708610535},\n",
       " {'val_loss': 0.6152191162109375, 'val_acc': 0.8582871556282043}]"
      ]
     },
     "execution_count": 27,
     "metadata": {},
     "output_type": "execute_result"
    }
   ],
   "source": [
    "history = fit(25, 1e-3, model, train_loader, val_loader)\n",
    "history"
   ]
  },
  {
   "cell_type": "code",
   "execution_count": 28,
   "metadata": {},
   "outputs": [
    {
     "data": {
      "image/png": "[encoded data removed]",
      "text/plain": [
       "<Figure size 640x480 with 1 Axes>"
      ]
     },
     "metadata": {},
     "output_type": "display_data"
    }
   ],
   "source": [
    "accuracies = [r['val_acc'] for r in [result] + history]\n",
    "plt.plot(accuracies, '-x')\n",
    "plt.xlabel('epoch')\n",
    "plt.ylabel('accuracy')\n",
    "plt.title('Accuracy vs. No. of epochs')\n",
    "plt.show()"
   ]
  },
  {
   "cell_type": "code",
   "execution_count": null,
   "metadata": {},
   "outputs": [],
   "source": []
  }
 ],
 "metadata": {
  "kernelspec": {
   "display_name": "sandbox",
   "language": "python",
   "name": "python3"
  },
  "language_info": {
   "codemirror_mode": {
    "name": "ipython",
    "version": 3
   },
   "file_extension": ".py",
   "mimetype": "text/x-python",
   "name": "python",
   "nbconvert_exporter": "python",
   "pygments_lexer": "ipython3",
   "version": "3.11.8"
  }
 },
 "nbformat": 4,
 "nbformat_minor": 2
}
